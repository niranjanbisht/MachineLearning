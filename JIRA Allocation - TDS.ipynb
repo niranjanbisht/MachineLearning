{
 "cells": [
  {
   "cell_type": "code",
   "execution_count": 3,
   "metadata": {
    "collapsed": true
   },
   "outputs": [],
   "source": [
    "import pandas as pd\n",
    "import numpy as np\n",
    "from scipy import stats\n",
    "\n",
    "jira_data_all=pd.read_csv(\"Data/102-108/JIRA Export All fields.csv\",low_memory=False)"
   ]
  },
  {
   "cell_type": "code",
   "execution_count": 4,
   "metadata": {
    "collapsed": true
   },
   "outputs": [],
   "source": [
    "#Config values\n",
    "import warnings\n",
    "warnings.simplefilter(\"ignore\")\n",
    "devs_look_back_period=2\n",
    "jiras_look_back_period=4\n",
    "n_best=20\n",
    "anonymize_users='y'"
   ]
  },
  {
   "cell_type": "code",
   "execution_count": 5,
   "metadata": {},
   "outputs": [
    {
     "name": "stdout",
     "output_type": "stream",
     "text": [
      "Using Anonymized names\n"
     ]
    }
   ],
   "source": [
    "if anonymize_users=='y':\n",
    "    uid_name=pd.read_csv(\"uid_name_anon.csv\")\n",
    "    print('Using Anonymized names')\n",
    "else:\n",
    "    uid_name=pd.read_csv(\"uid_name.csv\")\n",
    "    \n",
    "if anonymize_users !='y':\n",
    "    print(uid_name)"
   ]
  },
  {
   "cell_type": "code",
   "execution_count": 6,
   "metadata": {},
   "outputs": [
    {
     "data": {
      "text/plain": [
       "Index(['Summary', 'Issue_key', 'Multiple_Devs', 'Issue_Type', 'POD', 'SOR',\n",
       "       'Iteration', 'Description'],\n",
       "      dtype='object')"
      ]
     },
     "execution_count": 6,
     "metadata": {},
     "output_type": "execute_result"
    }
   ],
   "source": [
    "# Retain used columns only from the JIRA dump\n",
    "col = ['Summary','Issue key','Custom field (Multiple Developers)','Issue Type','Custom field (POD Assignment)','Custom field (Inbound SOR)','Custom field (Target Iteration)','Description'] \n",
    "jira_data = jira_data_all[col]\n",
    "jira_data.columns = ['Summary', 'Issue_key', 'Multiple_Devs','Issue_Type', 'POD','SOR','Iteration','Description']\n",
    "jira_data.columns"
   ]
  },
  {
   "cell_type": "code",
   "execution_count": 7,
   "metadata": {},
   "outputs": [
    {
     "name": "stdout",
     "output_type": "stream",
     "text": [
      "<class 'pandas.core.frame.DataFrame'>\n",
      "RangeIndex: 74 entries, 0 to 73\n",
      "Data columns (total 2 columns):\n",
      "Dev_uid    74 non-null object\n",
      "counts     74 non-null int64\n",
      "dtypes: int64(1), object(1)\n",
      "memory usage: 1.2+ KB\n"
     ]
    }
   ],
   "source": [
    "jira_counts_by_uid=pd.DataFrame(jira_data['Multiple_Devs'].value_counts())\n",
    "jira_counts_by_uid = jira_counts_by_uid.reset_index()\n",
    "jira_counts_by_uid.columns = ['Dev_uid', 'counts'] \n",
    "jira_counts_by_uid.info()"
   ]
  },
  {
   "cell_type": "code",
   "execution_count": 8,
   "metadata": {},
   "outputs": [
    {
     "data": {
      "text/html": [
       "<div>\n",
       "<style>\n",
       "    .dataframe thead tr:only-child th {\n",
       "        text-align: right;\n",
       "    }\n",
       "\n",
       "    .dataframe thead th {\n",
       "        text-align: left;\n",
       "    }\n",
       "\n",
       "    .dataframe tbody tr th {\n",
       "        vertical-align: top;\n",
       "    }\n",
       "</style>\n",
       "<table border=\"1\" class=\"dataframe\">\n",
       "  <thead>\n",
       "    <tr style=\"text-align: right;\">\n",
       "      <th></th>\n",
       "      <th>FIRST_NM</th>\n",
       "      <th>counts</th>\n",
       "    </tr>\n",
       "  </thead>\n",
       "  <tbody>\n",
       "    <tr>\n",
       "      <th>0</th>\n",
       "      <td>Gangaprasad</td>\n",
       "      <td>62</td>\n",
       "    </tr>\n",
       "    <tr>\n",
       "      <th>1</th>\n",
       "      <td>Srinivas</td>\n",
       "      <td>50</td>\n",
       "    </tr>\n",
       "    <tr>\n",
       "      <th>2</th>\n",
       "      <td>Aniket</td>\n",
       "      <td>37</td>\n",
       "    </tr>\n",
       "    <tr>\n",
       "      <th>3</th>\n",
       "      <td>Vamshi</td>\n",
       "      <td>27</td>\n",
       "    </tr>\n",
       "    <tr>\n",
       "      <th>4</th>\n",
       "      <td>Ravindra</td>\n",
       "      <td>26</td>\n",
       "    </tr>\n",
       "  </tbody>\n",
       "</table>\n",
       "</div>"
      ],
      "text/plain": [
       "      FIRST_NM  counts\n",
       "0  Gangaprasad      62\n",
       "1     Srinivas      50\n",
       "2       Aniket      37\n",
       "3       Vamshi      27\n",
       "4     Ravindra      26"
      ]
     },
     "execution_count": 8,
     "metadata": {},
     "output_type": "execute_result"
    }
   ],
   "source": [
    "count_by_dev_df=pd.merge(jira_counts_by_uid, uid_name, left_on='Dev_uid', right_on='LOGIN_ID')\n",
    "count_by_dev_df[['FIRST_NM','counts']].head()"
   ]
  },
  {
   "cell_type": "code",
   "execution_count": 9,
   "metadata": {
    "collapsed": true
   },
   "outputs": [],
   "source": [
    "import seaborn as sns\n",
    "sns.set()"
   ]
  },
  {
   "cell_type": "code",
   "execution_count": 10,
   "metadata": {},
   "outputs": [
    {
     "data": {
      "image/png": "[encoded data removed]",
      "text/plain": [
       "<matplotlib.figure.Figure at 0x27c1c832da0>"
      ]
     },
     "metadata": {},
     "output_type": "display_data"
    }
   ],
   "source": [
    "sns.boxplot(data = jira_counts_by_uid,x=jira_counts_by_uid['counts']\n",
    "            )\n",
    "import matplotlib.pyplot as plt\n",
    "plt.show()"
   ]
  },
  {
   "cell_type": "code",
   "execution_count": 11,
   "metadata": {
    "collapsed": true
   },
   "outputs": [],
   "source": [
    "z_score = np.abs(stats.zscore(jira_counts_by_uid['counts']))\n",
    "outliers=np.where(z_score > 3)\n",
    "outlier_devs=[]\n",
    "for t in outliers:\n",
    "\toutlier_devs.append(jira_counts_by_uid['Dev_uid'][t])"
   ]
  },
  {
   "cell_type": "code",
   "execution_count": 12,
   "metadata": {},
   "outputs": [
    {
     "data": {
      "text/plain": [
       "23    Gangaprasad\n",
       "78       Srinivas\n",
       "Name: FIRST_NM, dtype: object"
      ]
     },
     "execution_count": 12,
     "metadata": {},
     "output_type": "execute_result"
    }
   ],
   "source": [
    "uid_name[uid_name[\"LOGIN_ID\"].isin(outlier_devs[0])][\"FIRST_NM\"]"
   ]
  },
  {
   "cell_type": "code",
   "execution_count": 13,
   "metadata": {},
   "outputs": [
    {
     "data": {
      "text/plain": [
       "Summary          727\n",
       "Issue_key        727\n",
       "Multiple_Devs    691\n",
       "Issue_Type       727\n",
       "POD              607\n",
       "SOR              631\n",
       "Iteration        727\n",
       "Description      727\n",
       "dtype: int64"
      ]
     },
     "execution_count": 13,
     "metadata": {},
     "output_type": "execute_result"
    }
   ],
   "source": [
    "jira_data.count()"
   ]
  },
  {
   "cell_type": "code",
   "execution_count": 14,
   "metadata": {},
   "outputs": [
    {
     "data": {
      "text/plain": [
       "Summary          615\n",
       "Issue_key        615\n",
       "Multiple_Devs    579\n",
       "Issue_Type       615\n",
       "POD              500\n",
       "SOR              522\n",
       "Iteration        615\n",
       "Description      615\n",
       "dtype: int64"
      ]
     },
     "execution_count": 14,
     "metadata": {},
     "output_type": "execute_result"
    }
   ],
   "source": [
    "jira_data=jira_data[~jira_data[\"Multiple_Devs\"].isin(outlier_devs[0])]\n",
    "jira_data.count()"
   ]
  },
  {
   "cell_type": "code",
   "execution_count": 15,
   "metadata": {
    "collapsed": true
   },
   "outputs": [],
   "source": [
    "jira_data=pd.merge(jira_data, uid_name, left_on='Multiple_Devs', right_on='LOGIN_ID', how='right')\n"
   ]
  },
  {
   "cell_type": "code",
   "execution_count": 16,
   "metadata": {},
   "outputs": [
    {
     "data": {
      "text/plain": [
       "Index(['Summary', 'Issue_key', 'Issue_Type', 'POD', 'SOR', 'Iteration',\n",
       "       'Description', 'Name'],\n",
       "      dtype='object')"
      ]
     },
     "execution_count": 16,
     "metadata": {},
     "output_type": "execute_result"
    }
   ],
   "source": [
    "jira_data=jira_data.drop(['Multiple_Devs','LOGIN_ID'], axis=1)\n",
    "jira_data.columns = ['Summary', 'Issue_key', 'Issue_Type', 'POD','SOR','Iteration','Description','Name']\n",
    "jira_data.columns"
   ]
  },
  {
   "cell_type": "code",
   "execution_count": 17,
   "metadata": {
    "collapsed": true
   },
   "outputs": [],
   "source": [
    "#Drop Sourcing JIRAs\n",
    "jiras_non_sourcing=jira_data[~jira_data['Iteration'].str.contains(\"Iteration B\", na=False)]\n",
    "# Filter bad data\n",
    "jiras_non_sourcing=jiras_non_sourcing.dropna()"
   ]
  },
  {
   "cell_type": "code",
   "execution_count": 18,
   "metadata": {},
   "outputs": [
    {
     "data": {
      "text/html": [
       "<div>\n",
       "<style>\n",
       "    .dataframe thead tr:only-child th {\n",
       "        text-align: right;\n",
       "    }\n",
       "\n",
       "    .dataframe thead th {\n",
       "        text-align: left;\n",
       "    }\n",
       "\n",
       "    .dataframe tbody tr th {\n",
       "        vertical-align: top;\n",
       "    }\n",
       "</style>\n",
       "<table border=\"1\" class=\"dataframe\">\n",
       "  <thead>\n",
       "    <tr style=\"text-align: right;\">\n",
       "      <th></th>\n",
       "      <th>Summary</th>\n",
       "      <th>Issue_key</th>\n",
       "      <th>Issue_Type</th>\n",
       "      <th>POD</th>\n",
       "      <th>SOR</th>\n",
       "      <th>Iteration</th>\n",
       "      <th>Description</th>\n",
       "      <th>Name</th>\n",
       "    </tr>\n",
       "  </thead>\n",
       "  <tbody>\n",
       "    <tr>\n",
       "      <th>1</th>\n",
       "      <td>FSDF - MIDAS Lonodn &amp; Cayman - Update the logi...</td>\n",
       "      <td>IHUBPS-9404</td>\n",
       "      <td>Enhancement</td>\n",
       "      <td>Securities/Fees/Common</td>\n",
       "      <td>Midas+</td>\n",
       "      <td>104</td>\n",
       "      <td>Update the logic code L-006 for DEP_GL_AMT to ...</td>\n",
       "      <td>Timothy</td>\n",
       "    </tr>\n",
       "    <tr>\n",
       "      <th>2</th>\n",
       "      <td>FSDF MIDAS London - Update the mapping for COM...</td>\n",
       "      <td>IHUBPS-9169</td>\n",
       "      <td>Enhancement</td>\n",
       "      <td>Securities/Fees/Common</td>\n",
       "      <td>Midas+</td>\n",
       "      <td>104</td>\n",
       "      <td>Update the mapping for the following balance t...</td>\n",
       "      <td>Timothy</td>\n",
       "    </tr>\n",
       "    <tr>\n",
       "      <th>3</th>\n",
       "      <td>CCDMS  FSDF- Add Mapping for CUAC_CODE in STG...</td>\n",
       "      <td>IHUBPS-8998</td>\n",
       "      <td>Enhancement</td>\n",
       "      <td>Securities/Fees/Common</td>\n",
       "      <td>CCDMS</td>\n",
       "      <td>103</td>\n",
       "      <td>*{color:#000000}CUAC_CODE :-Denotes the Hogan ...</td>\n",
       "      <td>Timothy</td>\n",
       "    </tr>\n",
       "    <tr>\n",
       "      <th>6</th>\n",
       "      <td>Infolease: Mapping Update in TMP_FINANCIALS fo...</td>\n",
       "      <td>IHUBPS-10613</td>\n",
       "      <td>Enhancement</td>\n",
       "      <td>Commercial Cap / Leasing</td>\n",
       "      <td>Infolease</td>\n",
       "      <td>108</td>\n",
       "      <td>Please Refer OLMD:INFOLEASE_8.0.7.1.20 for IT-...</td>\n",
       "      <td>Prasanna</td>\n",
       "    </tr>\n",
       "    <tr>\n",
       "      <th>7</th>\n",
       "      <td>Infolease - Update mapping for N_FLOAT_SPREAD ...</td>\n",
       "      <td>IHUBPS-10612</td>\n",
       "      <td>Enhancement</td>\n",
       "      <td>Commercial Cap / Leasing</td>\n",
       "      <td>Infolease</td>\n",
       "      <td>108</td>\n",
       "      <td>Please Refer OLD:INFOLEASE_8.0.7.1.20 for IT-1...</td>\n",
       "      <td>Prasanna</td>\n",
       "    </tr>\n",
       "  </tbody>\n",
       "</table>\n",
       "</div>"
      ],
      "text/plain": [
       "                                             Summary     Issue_key  \\\n",
       "1  FSDF - MIDAS Lonodn & Cayman - Update the logi...   IHUBPS-9404   \n",
       "2  FSDF MIDAS London - Update the mapping for COM...   IHUBPS-9169   \n",
       "3   CCDMS  FSDF- Add Mapping for CUAC_CODE in STG...   IHUBPS-8998   \n",
       "6  Infolease: Mapping Update in TMP_FINANCIALS fo...  IHUBPS-10613   \n",
       "7  Infolease - Update mapping for N_FLOAT_SPREAD ...  IHUBPS-10612   \n",
       "\n",
       "    Issue_Type                       POD        SOR  Iteration  \\\n",
       "1  Enhancement    Securities/Fees/Common     Midas+        104   \n",
       "2  Enhancement    Securities/Fees/Common     Midas+        104   \n",
       "3  Enhancement    Securities/Fees/Common      CCDMS        103   \n",
       "6  Enhancement  Commercial Cap / Leasing  Infolease        108   \n",
       "7  Enhancement  Commercial Cap / Leasing  Infolease        108   \n",
       "\n",
       "                                         Description      Name  \n",
       "1  Update the logic code L-006 for DEP_GL_AMT to ...   Timothy  \n",
       "2  Update the mapping for the following balance t...   Timothy  \n",
       "3  *{color:#000000}CUAC_CODE :-Denotes the Hogan ...   Timothy  \n",
       "6  Please Refer OLMD:INFOLEASE_8.0.7.1.20 for IT-...  Prasanna  \n",
       "7  Please Refer OLD:INFOLEASE_8.0.7.1.20 for IT-1...  Prasanna  "
      ]
     },
     "execution_count": 18,
     "metadata": {},
     "output_type": "execute_result"
    }
   ],
   "source": [
    "## Drop JIRA data for Developers that are not current\n",
    "# Strip 'Iteration ' and convert to number\n",
    "jiras_non_sourcing['Iteration'] = (jiras_non_sourcing['Iteration'].str[9:]).str.strip().astype('int64')\n",
    "jiras_non_sourcing.head()"
   ]
  },
  {
   "cell_type": "code",
   "execution_count": 19,
   "metadata": {},
   "outputs": [
    {
     "data": {
      "text/plain": [
       "Summary        465\n",
       "Issue_key      465\n",
       "Issue_Type     465\n",
       "POD            465\n",
       "SOR            465\n",
       "Iteration      465\n",
       "Description    465\n",
       "Name           465\n",
       "dtype: int64"
      ]
     },
     "execution_count": 19,
     "metadata": {},
     "output_type": "execute_result"
    }
   ],
   "source": [
    "jiras_non_sourcing.count()\n"
   ]
  },
  {
   "cell_type": "code",
   "execution_count": 20,
   "metadata": {},
   "outputs": [
    {
     "name": "stdout",
     "output_type": "stream",
     "text": [
      "30\n",
      "Summary        121\n",
      "Issue_key      121\n",
      "Issue_Type     121\n",
      "POD            121\n",
      "SOR            121\n",
      "Iteration      121\n",
      "Description    121\n",
      "Name           121\n",
      "dtype: int64\n"
     ]
    },
    {
     "data": {
      "text/html": [
       "<div>\n",
       "<style>\n",
       "    .dataframe thead tr:only-child th {\n",
       "        text-align: right;\n",
       "    }\n",
       "\n",
       "    .dataframe thead th {\n",
       "        text-align: left;\n",
       "    }\n",
       "\n",
       "    .dataframe tbody tr th {\n",
       "        vertical-align: top;\n",
       "    }\n",
       "</style>\n",
       "<table border=\"1\" class=\"dataframe\">\n",
       "  <thead>\n",
       "    <tr style=\"text-align: right;\">\n",
       "      <th></th>\n",
       "      <th>Summary</th>\n",
       "      <th>Issue_key</th>\n",
       "      <th>Issue_Type</th>\n",
       "      <th>POD</th>\n",
       "      <th>SOR</th>\n",
       "      <th>Iteration</th>\n",
       "      <th>Description</th>\n",
       "      <th>Name</th>\n",
       "    </tr>\n",
       "  </thead>\n",
       "  <tbody>\n",
       "    <tr>\n",
       "      <th>6</th>\n",
       "      <td>infolease: mapping update in tmp_financials fo...</td>\n",
       "      <td>IHUBPS-10613</td>\n",
       "      <td>Enhancement</td>\n",
       "      <td>Commercial Cap / Leasing</td>\n",
       "      <td>INFOLEASE</td>\n",
       "      <td>108</td>\n",
       "      <td>please refer olmd:infolease_8.0.7.1.20 for it-...</td>\n",
       "      <td>Prasanna</td>\n",
       "    </tr>\n",
       "    <tr>\n",
       "      <th>7</th>\n",
       "      <td>infolease - update mapping for n_float_spread ...</td>\n",
       "      <td>IHUBPS-10612</td>\n",
       "      <td>Enhancement</td>\n",
       "      <td>Commercial Cap / Leasing</td>\n",
       "      <td>INFOLEASE</td>\n",
       "      <td>108</td>\n",
       "      <td>please refer old:infolease_8.0.7.1.20 for it-1...</td>\n",
       "      <td>Prasanna</td>\n",
       "    </tr>\n",
       "    <tr>\n",
       "      <th>10</th>\n",
       "      <td>infl - v_int_rate_index_code - data not reflec...</td>\n",
       "      <td>IHUBPS-10297</td>\n",
       "      <td>Defect</td>\n",
       "      <td>Commercial Cap / Leasing</td>\n",
       "      <td>INFOLEASE</td>\n",
       "      <td>106</td>\n",
       "      <td>{color:#172b4d}missed the logic to implement f...</td>\n",
       "      <td>Prasanna</td>\n",
       "    </tr>\n",
       "    <tr>\n",
       "      <th>11</th>\n",
       "      <td>infolease - new olmd table stg_dealer_master</td>\n",
       "      <td>IHUBPS-10162</td>\n",
       "      <td>Enhancement</td>\n",
       "      <td>Commercial Cap / Leasing</td>\n",
       "      <td>INFOLEASE</td>\n",
       "      <td>106</td>\n",
       "      <td>*please refer olmd:infolease_8.{color:#333333}...</td>\n",
       "      <td>Prasanna</td>\n",
       "    </tr>\n",
       "    <tr>\n",
       "      <th>12</th>\n",
       "      <td>infolease - olmd update for populating private...</td>\n",
       "      <td>IHUBPS-10161</td>\n",
       "      <td>Enhancement</td>\n",
       "      <td>Commercial Cap / Leasing</td>\n",
       "      <td>INFOLEASE</td>\n",
       "      <td>106</td>\n",
       "      <td>*please refer olmd:infolease_8.{color:#333333}...</td>\n",
       "      <td>Prasanna</td>\n",
       "    </tr>\n",
       "  </tbody>\n",
       "</table>\n",
       "</div>"
      ],
      "text/plain": [
       "                                              Summary     Issue_key  \\\n",
       "6   infolease: mapping update in tmp_financials fo...  IHUBPS-10613   \n",
       "7   infolease - update mapping for n_float_spread ...  IHUBPS-10612   \n",
       "10  infl - v_int_rate_index_code - data not reflec...  IHUBPS-10297   \n",
       "11       infolease - new olmd table stg_dealer_master  IHUBPS-10162   \n",
       "12  infolease - olmd update for populating private...  IHUBPS-10161   \n",
       "\n",
       "     Issue_Type                       POD        SOR  Iteration  \\\n",
       "6   Enhancement  Commercial Cap / Leasing  INFOLEASE        108   \n",
       "7   Enhancement  Commercial Cap / Leasing  INFOLEASE        108   \n",
       "10       Defect  Commercial Cap / Leasing  INFOLEASE        106   \n",
       "11  Enhancement  Commercial Cap / Leasing  INFOLEASE        106   \n",
       "12  Enhancement  Commercial Cap / Leasing  INFOLEASE        106   \n",
       "\n",
       "                                          Description      Name  \n",
       "6   please refer olmd:infolease_8.0.7.1.20 for it-...  Prasanna  \n",
       "7   please refer old:infolease_8.0.7.1.20 for it-1...  Prasanna  \n",
       "10  {color:#172b4d}missed the logic to implement f...  Prasanna  \n",
       "11  *please refer olmd:infolease_8.{color:#333333}...  Prasanna  \n",
       "12  *please refer olmd:infolease_8.{color:#333333}...  Prasanna  "
      ]
     },
     "execution_count": 20,
     "metadata": {},
     "output_type": "execute_result"
    }
   ],
   "source": [
    "# Format data\n",
    "\n",
    "jiras_non_sourcing['Name'] = jiras_non_sourcing['Name'].str.title()\n",
    "jiras_non_sourcing['SOR'] = jiras_non_sourcing['SOR'].str.upper()\n",
    "jiras_non_sourcing['Summary'] = jiras_non_sourcing['Summary'].str.lower()\n",
    "jiras_non_sourcing['Description'] = jiras_non_sourcing['Description'].str.lower()\n",
    "\n",
    "\n",
    "#jiras_non_sourcing['Target Iteration'].max()-4\n",
    "\n",
    "\n",
    "\n",
    "devs_look_back_iteration=jiras_non_sourcing['Iteration'].max()-devs_look_back_period\n",
    "devs_look_back_iteration\n",
    "\n",
    "jira_list_of_active_devs = jiras_non_sourcing[jiras_non_sourcing['Iteration'] > devs_look_back_iteration]\n",
    "\n",
    "active_developers = jira_list_of_active_devs['Name'].drop_duplicates()\n",
    "print(active_developers.count())\n",
    "active_developers\n",
    "\n",
    "\n",
    "# Drop JIRAs of non-active developers\n",
    "jira_filtered=jiras_non_sourcing[jiras_non_sourcing['Name'].isin(active_developers)]\n",
    "\n",
    "#Restrict JIRAs for current allocations\n",
    "jira_look_back_iteration=jira_filtered['Iteration'].max()-jiras_look_back_period\n",
    "jira_look_back_iteration\n",
    "\n",
    "jira_filtered=jiras_non_sourcing[jiras_non_sourcing['Iteration'] > jira_look_back_iteration]\n",
    "\n",
    "# Drop rows for developers with low number of allocations\n",
    "jira_filtered=jira_filtered.groupby(\"Name\").filter(lambda x: len(x) > 7)\n",
    "\n",
    "print(jira_filtered.count())\n",
    "jira_filtered.head()\n"
   ]
  },
  {
   "cell_type": "code",
   "execution_count": 21,
   "metadata": {},
   "outputs": [
    {
     "data": {
      "text/html": [
       "<div>\n",
       "<style>\n",
       "    .dataframe thead tr:only-child th {\n",
       "        text-align: right;\n",
       "    }\n",
       "\n",
       "    .dataframe thead th {\n",
       "        text-align: left;\n",
       "    }\n",
       "\n",
       "    .dataframe tbody tr th {\n",
       "        vertical-align: top;\n",
       "    }\n",
       "</style>\n",
       "<table border=\"1\" class=\"dataframe\">\n",
       "  <thead>\n",
       "    <tr style=\"text-align: right;\">\n",
       "      <th></th>\n",
       "      <th>SOR</th>\n",
       "    </tr>\n",
       "  </thead>\n",
       "  <tbody>\n",
       "    <tr>\n",
       "      <th>126</th>\n",
       "      <td>AFS</td>\n",
       "    </tr>\n",
       "    <tr>\n",
       "      <th>56</th>\n",
       "      <td>AIMS</td>\n",
       "    </tr>\n",
       "    <tr>\n",
       "      <th>148</th>\n",
       "      <td>BROADRIDGE</td>\n",
       "    </tr>\n",
       "    <tr>\n",
       "      <th>149</th>\n",
       "      <td>CCDMS</td>\n",
       "    </tr>\n",
       "    <tr>\n",
       "      <th>146</th>\n",
       "      <td>CDD TABLES</td>\n",
       "    </tr>\n",
       "  </tbody>\n",
       "</table>\n",
       "</div>"
      ],
      "text/plain": [
       "            SOR\n",
       "126         AFS\n",
       "56         AIMS\n",
       "148  BROADRIDGE\n",
       "149       CCDMS\n",
       "146  CDD TABLES"
      ]
     },
     "execution_count": 21,
     "metadata": {},
     "output_type": "execute_result"
    }
   ],
   "source": [
    "SOR_distinct = jira_filtered[['SOR']].drop_duplicates().sort_values('SOR')\n",
    "SOR_distinct.head()\n"
   ]
  },
  {
   "cell_type": "code",
   "execution_count": 22,
   "metadata": {},
   "outputs": [
    {
     "name": "stdout",
     "output_type": "stream",
     "text": [
      "['AFS' 'AIMS' 'BROADRIDGE' 'CCDMS' 'CDD TABLES' 'EXIMBILLS HK'\n",
      " 'EXIMBILLS HK INSOURCING' 'GBF' 'IIS' 'INFOLEASE' 'LEASECONNECT (IKNX)'\n",
      " 'LIQ' 'LUCAS' 'RAILS' 'SHAW/WFDS' 'STRATEGY LOAN SERVICES'\n",
      " 'SYNTHETIC LEASE' 'TRIP' 'WFA FIRST CLEARING' 'YARDI NMTC']\n",
      "['Commercial Cap / Leasing' 'Commercial Lending' 'Financial Crimes'\n",
      " 'Securities/Fees/Common']\n",
      "['Defect' 'Enhancement' 'Sub-Task - Bug' 'Sub-task' 'Tech Task']\n"
     ]
    }
   ],
   "source": [
    "from sklearn.preprocessing import LabelBinarizer\n",
    "encoder1 = LabelBinarizer()\n",
    "SOR_1hot = encoder1.fit_transform(jira_filtered['SOR'])\n",
    "print(encoder1.classes_)\n",
    "encoder2 = LabelBinarizer()\n",
    "POD_1hot = encoder2.fit_transform(jira_filtered['POD'])\n",
    "print(encoder2.classes_)\n",
    "encoder3 = LabelBinarizer()\n",
    "IssueType_1hot = encoder3.fit_transform(jira_filtered['Issue_Type'])\n",
    "print(encoder3.classes_)"
   ]
  },
  {
   "cell_type": "code",
   "execution_count": 23,
   "metadata": {},
   "outputs": [
    {
     "data": {
      "text/plain": [
       "105    36\n",
       "108    31\n",
       "106    30\n",
       "107    24\n",
       "Name: Iteration, dtype: int64"
      ]
     },
     "execution_count": 23,
     "metadata": {},
     "output_type": "execute_result"
    }
   ],
   "source": [
    "jira_filtered['Iteration'].value_counts()"
   ]
  },
  {
   "cell_type": "code",
   "execution_count": 24,
   "metadata": {
    "collapsed": true
   },
   "outputs": [],
   "source": [
    "from sklearn.preprocessing import MinMaxScaler\n",
    "scaler = MinMaxScaler()\n",
    "jira_filtered[\"Scaled_Iteration\"]=scaler.fit_transform(jira_filtered[\"Iteration\"].values.reshape(-1, 1))\n"
   ]
  },
  {
   "cell_type": "code",
   "execution_count": 25,
   "metadata": {},
   "outputs": [
    {
     "name": "stdout",
     "output_type": "stream",
     "text": [
      "Summary             121\n",
      "Issue_key           121\n",
      "Issue_Type          121\n",
      "POD                 121\n",
      "SOR                 121\n",
      "Iteration           121\n",
      "Description         121\n",
      "Name                121\n",
      "Scaled_Iteration    121\n",
      "dtype: int64\n",
      "<class 'pandas.core.frame.DataFrame'>\n",
      "Int64Index: 121 entries, 6 to 372\n",
      "Data columns (total 9 columns):\n",
      "Summary             121 non-null object\n",
      "Issue_key           121 non-null object\n",
      "Issue_Type          121 non-null object\n",
      "POD                 121 non-null object\n",
      "SOR                 121 non-null object\n",
      "Iteration           121 non-null int64\n",
      "Description         121 non-null object\n",
      "Name                121 non-null object\n",
      "Scaled_Iteration    121 non-null float64\n",
      "dtypes: float64(1), int64(1), object(7)\n",
      "memory usage: 14.5+ KB\n"
     ]
    }
   ],
   "source": [
    "print(jira_filtered.count())\n",
    "jira_filtered.info()"
   ]
  },
  {
   "cell_type": "code",
   "execution_count": 26,
   "metadata": {
    "collapsed": true
   },
   "outputs": [],
   "source": [
    "jira_filtered = jira_filtered.drop(['POD','SOR','Issue_Type','Iteration'], axis=1)"
   ]
  },
  {
   "cell_type": "code",
   "execution_count": 27,
   "metadata": {},
   "outputs": [
    {
     "data": {
      "text/html": [
       "<div>\n",
       "<style>\n",
       "    .dataframe thead tr:only-child th {\n",
       "        text-align: right;\n",
       "    }\n",
       "\n",
       "    .dataframe thead th {\n",
       "        text-align: left;\n",
       "    }\n",
       "\n",
       "    .dataframe tbody tr th {\n",
       "        vertical-align: top;\n",
       "    }\n",
       "</style>\n",
       "<table border=\"1\" class=\"dataframe\">\n",
       "  <thead>\n",
       "    <tr style=\"text-align: right;\">\n",
       "      <th></th>\n",
       "      <th>Summary</th>\n",
       "      <th>Issue_key</th>\n",
       "      <th>Description</th>\n",
       "      <th>Name</th>\n",
       "      <th>Scaled_Iteration</th>\n",
       "    </tr>\n",
       "  </thead>\n",
       "  <tbody>\n",
       "    <tr>\n",
       "      <th>6</th>\n",
       "      <td>infolease: mapping update in tmp_financials fo...</td>\n",
       "      <td>IHUBPS-10613</td>\n",
       "      <td>please refer olmd:infolease_8.0.7.1.20 for it-...</td>\n",
       "      <td>Prasanna</td>\n",
       "      <td>1.000000</td>\n",
       "    </tr>\n",
       "    <tr>\n",
       "      <th>7</th>\n",
       "      <td>infolease - update mapping for n_float_spread ...</td>\n",
       "      <td>IHUBPS-10612</td>\n",
       "      <td>please refer old:infolease_8.0.7.1.20 for it-1...</td>\n",
       "      <td>Prasanna</td>\n",
       "      <td>1.000000</td>\n",
       "    </tr>\n",
       "    <tr>\n",
       "      <th>10</th>\n",
       "      <td>infl - v_int_rate_index_code - data not reflec...</td>\n",
       "      <td>IHUBPS-10297</td>\n",
       "      <td>{color:#172b4d}missed the logic to implement f...</td>\n",
       "      <td>Prasanna</td>\n",
       "      <td>0.333333</td>\n",
       "    </tr>\n",
       "    <tr>\n",
       "      <th>11</th>\n",
       "      <td>infolease - new olmd table stg_dealer_master</td>\n",
       "      <td>IHUBPS-10162</td>\n",
       "      <td>*please refer olmd:infolease_8.{color:#333333}...</td>\n",
       "      <td>Prasanna</td>\n",
       "      <td>0.333333</td>\n",
       "    </tr>\n",
       "    <tr>\n",
       "      <th>12</th>\n",
       "      <td>infolease - olmd update for populating private...</td>\n",
       "      <td>IHUBPS-10161</td>\n",
       "      <td>*please refer olmd:infolease_8.{color:#333333}...</td>\n",
       "      <td>Prasanna</td>\n",
       "      <td>0.333333</td>\n",
       "    </tr>\n",
       "  </tbody>\n",
       "</table>\n",
       "</div>"
      ],
      "text/plain": [
       "                                              Summary     Issue_key  \\\n",
       "6   infolease: mapping update in tmp_financials fo...  IHUBPS-10613   \n",
       "7   infolease - update mapping for n_float_spread ...  IHUBPS-10612   \n",
       "10  infl - v_int_rate_index_code - data not reflec...  IHUBPS-10297   \n",
       "11       infolease - new olmd table stg_dealer_master  IHUBPS-10162   \n",
       "12  infolease - olmd update for populating private...  IHUBPS-10161   \n",
       "\n",
       "                                          Description      Name  \\\n",
       "6   please refer olmd:infolease_8.0.7.1.20 for it-...  Prasanna   \n",
       "7   please refer old:infolease_8.0.7.1.20 for it-1...  Prasanna   \n",
       "10  {color:#172b4d}missed the logic to implement f...  Prasanna   \n",
       "11  *please refer olmd:infolease_8.{color:#333333}...  Prasanna   \n",
       "12  *please refer olmd:infolease_8.{color:#333333}...  Prasanna   \n",
       "\n",
       "    Scaled_Iteration  \n",
       "6           1.000000  \n",
       "7           1.000000  \n",
       "10          0.333333  \n",
       "11          0.333333  \n",
       "12          0.333333  "
      ]
     },
     "execution_count": 27,
     "metadata": {},
     "output_type": "execute_result"
    }
   ],
   "source": [
    "jira_filtered.head()"
   ]
  },
  {
   "cell_type": "code",
   "execution_count": 28,
   "metadata": {},
   "outputs": [
    {
     "data": {
      "text/plain": [
       "6     0\n",
       "7     0\n",
       "10    0\n",
       "11    0\n",
       "12    0\n",
       "13    0\n",
       "14    0\n",
       "16    0\n",
       "20    0\n",
       "40    1\n",
       "Name: Developer_sk, dtype: int64"
      ]
     },
     "execution_count": 28,
     "metadata": {},
     "output_type": "execute_result"
    }
   ],
   "source": [
    "jira_filtered['Developer_sk'] = jira_filtered['Name'].factorize()[0]\n",
    "jira_filtered['Developer_sk'].head(10)"
   ]
  },
  {
   "cell_type": "code",
   "execution_count": 29,
   "metadata": {},
   "outputs": [
    {
     "name": "stdout",
     "output_type": "stream",
     "text": [
      "{'Prasanna': 0, 'Michelle': 1, 'Chirag': 2, 'Vamshi': 3, 'Ravindra': 4, 'Aniket': 5, 'Sudhakar': 6, 'Andrew': 7, 'Brad': 8, 'Satish': 9, 'Vamshee': 10, 'Hafiza': 11}\n",
      "{0: 'Prasanna', 1: 'Michelle', 2: 'Chirag', 3: 'Vamshi', 4: 'Ravindra', 5: 'Aniket', 6: 'Sudhakar', 7: 'Andrew', 8: 'Brad', 9: 'Satish', 10: 'Vamshee', 11: 'Hafiza'}\n"
     ]
    }
   ],
   "source": [
    "from io import StringIO\n",
    "developer_id_df = jira_filtered[['Name','Developer_sk']].drop_duplicates().sort_values('Developer_sk')\n",
    "uid_to_sk = dict(developer_id_df.values)\n",
    "print(uid_to_sk)\n",
    "sk_to_uid = dict(developer_id_df[['Developer_sk', 'Name']].values)\n",
    "print(sk_to_uid)"
   ]
  },
  {
   "cell_type": "code",
   "execution_count": 30,
   "metadata": {},
   "outputs": [
    {
     "data": {
      "text/plain": [
       "<matplotlib.figure.Figure at 0x27c1cc45c50>"
      ]
     },
     "metadata": {},
     "output_type": "display_data"
    },
    {
     "data": {
      "image/png": "[encoded data removed]",
      "text/plain": [
       "<matplotlib.figure.Figure at 0x27c1ccabe48>"
      ]
     },
     "metadata": {},
     "output_type": "display_data"
    }
   ],
   "source": [
    "import matplotlib.pyplot as plt\n",
    "fig = plt.figure(figsize=(16,12))\n",
    "jira_filtered.groupby('Name').count().plot.bar(ylim=0)\n",
    "plt.xticks(rotation='horizontal')\n",
    "plt.show()"
   ]
  },
  {
   "cell_type": "code",
   "execution_count": 31,
   "metadata": {
    "collapsed": true
   },
   "outputs": [],
   "source": [
    "from sklearn.feature_extraction.text import TfidfVectorizer\n"
   ]
  },
  {
   "cell_type": "code",
   "execution_count": 32,
   "metadata": {
    "collapsed": true
   },
   "outputs": [],
   "source": [
    "from sklearn.feature_extraction import text \n",
    "my_stop_words = text.ENGLISH_STOP_WORDS.union([\"please\",\"missed\",\"olmd\",\"column\",\"columns\",\"new\",\"changes\",\"mapping\",\"refer\",\"color\",\n",
    "                                               \"issue\",\"logic\",\"join\",\"condition\",\"following\",\"update\",\"processing\",\"following\"\n",
    "                                              ,\"update\",\"notes\",\"transformation\",\"updates\",\"updated\",\"filter\",\"conditions\"\n",
    "                                              ,\"use\",\"non\",\"conformed\",\"value\",\"add\",\"added\",\"additional\",\"attached\",\"email\"\n",
    "                                              ,\"based\",\"case\",\"change\",\"code\",\"codes\",\"current\",\"correct\",\"provide\",\"comments\",\"data\",\"date\"\n",
    "                                              ,\"default\",\"implemented\",\"applicable\",\"glimmer\",\"currently\",\"correctly\"\n",
    "                                              ,\"l\",\"incorrect\",\"adding\",\"level\",\"record\",\"create\",\"required\",\"different\"\n",
    "                                              ,\"target\",\"schema\",\"table\",\"atomic\",\"target \",\"jira\",\"ihubps\",\"end\",\"populate\"\n",
    "                                               ,\"table l\",\"populating\",\"l l\",\"map\",\"note\",\"records\",\"null\",\"n\",\"y\",\"remove\"\n",
    "                                               ,\"l remove\",\"loan\",\"left\",\"tables\",\"s\",\"b\",\"include\",\"fields\",\"sor\",\"source\"\n",
    "                                               ,\"used\",\"mentioned\",\"substr\",\"mappings\",\"field\",\"fields l\",\"values\",\"details\"\n",
    "                                               ,\"populated\",\"flag\",\"fixed\",\"type\",\"standardization\",\"like\",\"e\",\"f\",\"g\",\"mapped\"\n",
    "                                               ,\"ihub\",\"needs\",\"removed\",\"replaced\",\"file\",\"sor s\",\"direct\",\"match\",\"types\"\n",
    "                                               ,\"y n\",\"information\",\"included\",\"need\",\"trim\",\"forward\"\n",
    "                                              ])\n"
   ]
  },
  {
   "cell_type": "code",
   "execution_count": 33,
   "metadata": {},
   "outputs": [
    {
     "data": {
      "text/plain": [
       "(121, 22)"
      ]
     },
     "execution_count": 33,
     "metadata": {},
     "output_type": "execute_result"
    }
   ],
   "source": [
    "tfidf = TfidfVectorizer(sublinear_tf=True, min_df=5, norm='l2', encoding='latin-1', ngram_range=(1, 2), stop_words=my_stop_words\n",
    "                       ,token_pattern=r'(?u)\\b[A-Za-z]+\\b')\n",
    "features = tfidf.fit_transform(jira_filtered.Summary + jira_filtered.Description).toarray()\n",
    "labels = jira_filtered.Developer_sk\n",
    "features.shape"
   ]
  },
  {
   "cell_type": "code",
   "execution_count": 34,
   "metadata": {},
   "outputs": [
    {
     "name": "stdout",
     "output_type": "stream",
     "text": [
      "infolease\n",
      "guarantor\n",
      "bqr\n",
      "strte\n",
      "aims\n",
      "io\n",
      "yardi\n",
      "cli\n",
      "reference\n",
      "contracts\n",
      "customer\n",
      "party\n",
      "yardi cli\n",
      "fsdf\n",
      "gbf\n",
      "shaw\n",
      "net\n",
      "afs\n",
      "cdd\n",
      "tradeworks\n",
      "references\n",
      "lucas\n"
     ]
    }
   ],
   "source": [
    "for key, value in tfidf.vocabulary_.items() :\n",
    "    print(key)"
   ]
  },
  {
   "cell_type": "code",
   "execution_count": 35,
   "metadata": {},
   "outputs": [
    {
     "data": {
      "text/plain": [
       "(121, 23)"
      ]
     },
     "execution_count": 35,
     "metadata": {},
     "output_type": "execute_result"
    }
   ],
   "source": [
    "\n",
    "features = np.append(features, jira_filtered.Scaled_Iteration.values.reshape(features.shape[0],1), axis = 1)\n",
    "features.shape\n"
   ]
  },
  {
   "cell_type": "code",
   "execution_count": 36,
   "metadata": {},
   "outputs": [
    {
     "data": {
      "text/plain": [
       "(121, 52)"
      ]
     },
     "execution_count": 36,
     "metadata": {},
     "output_type": "execute_result"
    }
   ],
   "source": [
    "features = np.append(features,SOR_1hot, axis = 1)\n",
    "features = np.append(features,POD_1hot , axis = 1)\n",
    "features = np.append(features,IssueType_1hot , axis = 1)\n",
    "features.shape"
   ]
  },
  {
   "cell_type": "code",
   "execution_count": 37,
   "metadata": {
    "collapsed": true
   },
   "outputs": [],
   "source": [
    "from sklearn.linear_model import LogisticRegression\n",
    "from sklearn.ensemble import RandomForestClassifier\n",
    "from sklearn.naive_bayes import MultinomialNB\n",
    "from sklearn.svm import LinearSVC\n",
    "\n",
    "from sklearn.model_selection import cross_val_score"
   ]
  },
  {
   "cell_type": "code",
   "execution_count": 38,
   "metadata": {
    "collapsed": true
   },
   "outputs": [],
   "source": [
    "from sklearn.model_selection import train_test_split\n",
    "\n",
    "model = LogisticRegression(random_state=0)\n",
    "\n",
    "X_train, X_test, y_train, y_test, indices_train, indices_test = train_test_split(features, labels, jira_filtered.index, test_size=0.33, random_state=0)\n",
    "model.fit(X_train, y_train)\n",
    "y_pred = model.predict(X_test)"
   ]
  },
  {
   "cell_type": "code",
   "execution_count": 39,
   "metadata": {},
   "outputs": [
    {
     "data": {
      "image/png": "[encoded data removed]",
      "text/plain": [
       "<matplotlib.figure.Figure at 0x27c1d320c88>"
      ]
     },
     "metadata": {},
     "output_type": "display_data"
    }
   ],
   "source": [
    "from sklearn.metrics import confusion_matrix\n",
    "\n",
    "conf_mat = confusion_matrix(y_test, y_pred)\n",
    "fig, ax = plt.subplots(figsize=(16,12))\n",
    "sns.heatmap(conf_mat, annot=True, fmt='d',\n",
    "            xticklabels=developer_id_df.Name.values, yticklabels=developer_id_df.Name.values)\n",
    "plt.ylabel('Actual')\n",
    "plt.xlabel('Predicted')\n",
    "plt.xticks(rotation='vertical')\n",
    "plt.yticks(rotation='horizontal')\n",
    "plt.show()"
   ]
  },
  {
   "cell_type": "code",
   "execution_count": 40,
   "metadata": {},
   "outputs": [
    {
     "data": {
      "text/plain": [
       "LogisticRegression(C=1.0, class_weight=None, dual=False, fit_intercept=True,\n",
       "          intercept_scaling=1, max_iter=100, multi_class='ovr', n_jobs=1,\n",
       "          penalty='l2', random_state=0, solver='liblinear', tol=0.0001,\n",
       "          verbose=0, warm_start=False)"
      ]
     },
     "execution_count": 40,
     "metadata": {},
     "output_type": "execute_result"
    }
   ],
   "source": [
    "model.fit(features, labels)"
   ]
  },
  {
   "cell_type": "code",
   "execution_count": 41,
   "metadata": {},
   "outputs": [
    {
     "name": "stdout",
     "output_type": "stream",
     "text": [
      "             precision    recall  f1-score   support\n",
      "\n",
      "   Prasanna       0.83      1.00      0.91         5\n",
      "   Michelle       0.67      0.67      0.67         3\n",
      "     Chirag       0.50      0.33      0.40         3\n",
      "     Vamshi       0.33      1.00      0.50         2\n",
      "   Ravindra       1.00      1.00      1.00         5\n",
      "     Aniket       1.00      0.83      0.91         6\n",
      "   Sudhakar       1.00      0.67      0.80         3\n",
      "     Andrew       0.00      0.00      0.00         0\n",
      "       Brad       1.00      0.33      0.50         3\n",
      "     Satish       1.00      0.20      0.33         5\n",
      "    Vamshee       1.00      1.00      1.00         4\n",
      "     Hafiza       0.33      1.00      0.50         1\n",
      "\n",
      "avg / total       0.87      0.72      0.73        40\n",
      "\n"
     ]
    }
   ],
   "source": [
    "from sklearn import metrics\n",
    "print(metrics.classification_report(y_test, y_pred, target_names=jira_filtered['Name'].unique()))"
   ]
  },
  {
   "cell_type": "code",
   "execution_count": 42,
   "metadata": {},
   "outputs": [
    {
     "data": {
      "image/png": "[encoded data removed]",
      "text/plain": [
       "<matplotlib.figure.Figure at 0x27c1cf171d0>"
      ]
     },
     "metadata": {},
     "output_type": "display_data"
    }
   ],
   "source": [
    "uniqueValues, occurCount = np.unique(y_pred, return_counts=True)\n",
    "# Zip both the arrays\n",
    "listOfUniqueValues = zip(uniqueValues, occurCount)\n",
    "\n",
    "labels=[]\n",
    "for elem in listOfUniqueValues:\n",
    "   labels.append(sk_to_uid[elem[0]] )\n",
    "\n",
    "index=np.arange(len(uniqueValues))\n",
    "plt.bar(index, occurCount, align='edge', alpha=0.5, width=0.5)\n",
    "plt.xlabel('Assigned Developer', fontsize=10)\n",
    "plt.xticks(index, labels,rotation='vertical')\n",
    "plt.title('JIRA Predictions Distro - Historical Test Set')\n",
    "plt.show()"
   ]
  },
  {
   "cell_type": "code",
   "execution_count": 43,
   "metadata": {
    "collapsed": true
   },
   "outputs": [],
   "source": [
    "# data to predict for\n",
    "jira_data_next_iteration=pd.read_csv(\"Data/109/JIRA Export All Fields.csv\")"
   ]
  },
  {
   "cell_type": "code",
   "execution_count": 44,
   "metadata": {},
   "outputs": [
    {
     "data": {
      "text/plain": [
       "Index(['Summary', 'Issue_key', 'Multiple_Devs', 'Issue_Type', 'POD', 'SOR',\n",
       "       'Iteration', 'Description'],\n",
       "      dtype='object')"
      ]
     },
     "execution_count": 44,
     "metadata": {},
     "output_type": "execute_result"
    }
   ],
   "source": [
    "# Retain used columns only from the JIRA dump\n",
    "col = ['Summary','Issue key','Custom field (Multiple Developers)','Issue Type','Custom field (POD Assignment)','Custom field (Inbound SOR)','Custom field (Target Iteration)','Description'] \n",
    "jira_data_pred = jira_data_next_iteration[col]\n",
    "jira_data_pred.columns = ['Summary', 'Issue_key', 'Multiple_Devs','Issue_Type', 'POD','SOR','Iteration','Description']\n",
    "jira_data_pred.columns"
   ]
  },
  {
   "cell_type": "code",
   "execution_count": 45,
   "metadata": {},
   "outputs": [
    {
     "name": "stdout",
     "output_type": "stream",
     "text": [
      "<class 'pandas.core.frame.DataFrame'>\n",
      "RangeIndex: 129 entries, 0 to 128\n",
      "Data columns (total 8 columns):\n",
      "Summary          129 non-null object\n",
      "Issue_key        129 non-null object\n",
      "Multiple_Devs    120 non-null object\n",
      "Issue_Type       129 non-null object\n",
      "POD              99 non-null object\n",
      "SOR              106 non-null object\n",
      "Iteration        129 non-null object\n",
      "Description      129 non-null object\n",
      "dtypes: object(8)\n",
      "memory usage: 8.1+ KB\n"
     ]
    }
   ],
   "source": [
    "jira_data_pred.info()"
   ]
  },
  {
   "cell_type": "code",
   "execution_count": 46,
   "metadata": {
    "collapsed": true
   },
   "outputs": [],
   "source": [
    "jira_data_pred['SOR'] = jira_data_pred['SOR'].str.upper()\n",
    "jira_data_pred['Summary'] = jira_data_pred['Summary'].str.lower()\n",
    "jira_data_pred['Description'] = jira_data_pred['Description'].str.lower()\n"
   ]
  },
  {
   "cell_type": "code",
   "execution_count": 47,
   "metadata": {},
   "outputs": [
    {
     "name": "stdout",
     "output_type": "stream",
     "text": [
      "['AFS' 'AIMS' 'BROADRIDGE' 'CCDMS' 'CDD TABLES' 'EXIMBILLS HK'\n",
      " 'EXIMBILLS HK INSOURCING' 'GBF' 'IIS' 'INFOLEASE' 'LEASECONNECT (IKNX)'\n",
      " 'LIQ' 'LUCAS' 'RAILS' 'SHAW/WFDS' 'STRATEGY LOAN SERVICES'\n",
      " 'SYNTHETIC LEASE' 'TRIP' 'WFA FIRST CLEARING' 'YARDI NMTC']\n",
      "['Commercial Cap / Leasing' 'Commercial Lending' 'Financial Crimes'\n",
      " 'Securities/Fees/Common']\n",
      "['Defect' 'Enhancement' 'Sub-Task - Bug' 'Sub-task' 'Tech Task']\n"
     ]
    }
   ],
   "source": [
    "#jira_data_pred=jira_data_pred.dropna()\n",
    "# use fillna\n",
    "jira_data_pred[\"SOR\"].fillna(\"No SOR\", inplace = True) \n",
    "SOR_1hot_pred = encoder1.transform(jira_data_pred['SOR'])\n",
    "print(encoder1.classes_)\n",
    "\n",
    "jira_data_pred[\"POD\"].fillna(\"No POD\", inplace = True) \n",
    "POD_1hot_pred = encoder2.transform(jira_data_pred['POD'])\n",
    "print(encoder2.classes_)\n",
    "\n",
    "jira_data_pred[\"Issue_Type\"].fillna(\"No Issue_Type\", inplace = True) \n",
    "IssueType_1hot_pred = encoder3.transform(jira_data_pred['Issue_Type'])\n",
    "print(encoder3.classes_)\n"
   ]
  },
  {
   "cell_type": "code",
   "execution_count": 48,
   "metadata": {},
   "outputs": [
    {
     "data": {
      "text/plain": [
       "(129, 22)"
      ]
     },
     "execution_count": 48,
     "metadata": {},
     "output_type": "execute_result"
    }
   ],
   "source": [
    "jira_data_pred['Iteration'] = (jira_data_pred['Iteration'].str[9:]).str.strip().astype('int64')\n",
    "\n",
    "jira_data_pred['Scaled_Iteration']=scaler.transform(jira_data_pred[\"Iteration\"].values.reshape(-1, 1))\n",
    "\n",
    "features_pred = tfidf.transform(jira_data_pred.Summary +jira_data_pred.Description).toarray()\n",
    "\n",
    "features_pred.shape"
   ]
  },
  {
   "cell_type": "code",
   "execution_count": 49,
   "metadata": {},
   "outputs": [
    {
     "data": {
      "text/plain": [
       "(129, 23)"
      ]
     },
     "execution_count": 49,
     "metadata": {},
     "output_type": "execute_result"
    }
   ],
   "source": [
    "features_pred = np.append(features_pred, jira_data_pred.Scaled_Iteration.values.reshape(features_pred.shape[0],1), axis = 1)\n",
    "features_pred.shape"
   ]
  },
  {
   "cell_type": "code",
   "execution_count": 50,
   "metadata": {},
   "outputs": [
    {
     "data": {
      "text/plain": [
       "(129, 52)"
      ]
     },
     "execution_count": 50,
     "metadata": {},
     "output_type": "execute_result"
    }
   ],
   "source": [
    "\n",
    "features_pred = np.append(features_pred,SOR_1hot_pred, axis = 1)\n",
    "features_pred = np.append(features_pred,POD_1hot_pred , axis = 1)\n",
    "features_pred = np.append(features_pred,IssueType_1hot_pred , axis = 1)\n",
    "\n",
    "features_pred.shape"
   ]
  },
  {
   "cell_type": "code",
   "execution_count": 51,
   "metadata": {
    "collapsed": true
   },
   "outputs": [],
   "source": [
    "y_pred_next_iteration = model.predict(features_pred)"
   ]
  },
  {
   "cell_type": "code",
   "execution_count": 52,
   "metadata": {
    "collapsed": true
   },
   "outputs": [],
   "source": [
    "#predicted_developers=pd.DataFrame(y_pred_next_iteration,columns=['Predicted_Developer'])[0].map(sk_to_uid)\n",
    "predicted_developers=pd.DataFrame(y_pred_next_iteration,columns=['Predicted_Developer'])\n"
   ]
  },
  {
   "cell_type": "code",
   "execution_count": 53,
   "metadata": {
    "collapsed": true
   },
   "outputs": [],
   "source": [
    "predicted_developers=predicted_developers['Predicted_Developer'].map(sk_to_uid)"
   ]
  },
  {
   "cell_type": "code",
   "execution_count": 54,
   "metadata": {
    "collapsed": true
   },
   "outputs": [],
   "source": [
    "jira_predictions=pd.concat([jira_data_pred[[\"Summary\",\"Issue_key\"]], predicted_developers],axis=1)"
   ]
  },
  {
   "cell_type": "code",
   "execution_count": 55,
   "metadata": {},
   "outputs": [
    {
     "data": {
      "text/html": [
       "<div>\n",
       "<style>\n",
       "    .dataframe thead tr:only-child th {\n",
       "        text-align: right;\n",
       "    }\n",
       "\n",
       "    .dataframe thead th {\n",
       "        text-align: left;\n",
       "    }\n",
       "\n",
       "    .dataframe tbody tr th {\n",
       "        vertical-align: top;\n",
       "    }\n",
       "</style>\n",
       "<table border=\"1\" class=\"dataframe\">\n",
       "  <thead>\n",
       "    <tr style=\"text-align: right;\">\n",
       "      <th></th>\n",
       "      <th>Summary</th>\n",
       "      <th>Issue_key</th>\n",
       "      <th>Predicted_Developer</th>\n",
       "    </tr>\n",
       "  </thead>\n",
       "  <tbody>\n",
       "    <tr>\n",
       "      <th>0</th>\n",
       "      <td>oth implementation correction for sy for accou...</td>\n",
       "      <td>IHUBPS-11232</td>\n",
       "      <td>Vamshi</td>\n",
       "    </tr>\n",
       "    <tr>\n",
       "      <th>1</th>\n",
       "      <td>sourcing prt scheduling changes</td>\n",
       "      <td>IHUBPS-11216</td>\n",
       "      <td>Aniket</td>\n",
       "    </tr>\n",
       "    <tr>\n",
       "      <th>2</th>\n",
       "      <td>use of reusable sequence generator for strte a...</td>\n",
       "      <td>IHUBPS-11187</td>\n",
       "      <td>Hafiza</td>\n",
       "    </tr>\n",
       "    <tr>\n",
       "      <th>3</th>\n",
       "      <td>remove unused infolease table entries</td>\n",
       "      <td>IHUBPS-11185</td>\n",
       "      <td>Aniket</td>\n",
       "    </tr>\n",
       "    <tr>\n",
       "      <th>4</th>\n",
       "      <td>stg_wf_cntrct_prstnt_key changes for v_data_or...</td>\n",
       "      <td>IHUBPS-11089</td>\n",
       "      <td>Aniket</td>\n",
       "    </tr>\n",
       "  </tbody>\n",
       "</table>\n",
       "</div>"
      ],
      "text/plain": [
       "                                             Summary     Issue_key  \\\n",
       "0  oth implementation correction for sy for accou...  IHUBPS-11232   \n",
       "1                    sourcing prt scheduling changes  IHUBPS-11216   \n",
       "2  use of reusable sequence generator for strte a...  IHUBPS-11187   \n",
       "3              remove unused infolease table entries  IHUBPS-11185   \n",
       "4  stg_wf_cntrct_prstnt_key changes for v_data_or...  IHUBPS-11089   \n",
       "\n",
       "  Predicted_Developer  \n",
       "0              Vamshi  \n",
       "1              Aniket  \n",
       "2              Hafiza  \n",
       "3              Aniket  \n",
       "4              Aniket  "
      ]
     },
     "execution_count": 55,
     "metadata": {},
     "output_type": "execute_result"
    }
   ],
   "source": [
    "jira_predictions.head()\n",
    "#jira_predictions.to_excel(\"jira_predictions.xlsx\",sheet_name='jira_predicted_dev',index=False)"
   ]
  },
  {
   "cell_type": "raw",
   "metadata": {},
   "source": [
    "Workload Balancing"
   ]
  },
  {
   "cell_type": "code",
   "execution_count": 56,
   "metadata": {},
   "outputs": [
    {
     "data": {
      "text/plain": [
       "<matplotlib.figure.Figure at 0x27c1d4917b8>"
      ]
     },
     "metadata": {},
     "output_type": "display_data"
    },
    {
     "data": {
      "image/png": "[encoded data removed]",
      "text/plain": [
       "<matplotlib.figure.Figure at 0x27c1d4365f8>"
      ]
     },
     "metadata": {},
     "output_type": "display_data"
    }
   ],
   "source": [
    "fig = plt.figure(figsize=(16,12))\n",
    "jira_predictions.groupby('Predicted_Developer').count().plot.bar(ylim=0)\n",
    "plt.xticks(rotation='vertical')\n",
    "plt.show()"
   ]
  },
  {
   "cell_type": "code",
   "execution_count": 57,
   "metadata": {
    "collapsed": true
   },
   "outputs": [],
   "source": [
    "probability = model.predict_proba(features_pred)"
   ]
  },
  {
   "cell_type": "code",
   "execution_count": 58,
   "metadata": {},
   "outputs": [
    {
     "name": "stdout",
     "output_type": "stream",
     "text": [
      "[[ 0.03157049  0.10609123  0.03379352 ...,  0.02531732  0.0187342\n",
      "   0.07398942]\n",
      " [ 0.03546799  0.12019077  0.04076321 ...,  0.03060364  0.02157475\n",
      "   0.08596545]\n",
      " [ 0.0305953   0.14906867  0.03259022 ...,  0.02917956  0.01847843\n",
      "   0.21378922]\n",
      " ..., \n",
      " [ 0.02694778  0.04595638  0.03569155 ...,  0.01942517  0.01370765\n",
      "   0.09251289]\n",
      " [ 0.02751238  0.15087763  0.06788408 ...,  0.04300025  0.02239455\n",
      "   0.08754095]\n",
      " [ 0.0217629   0.03658622  0.02401338 ...,  0.01502456  0.01107735\n",
      "   0.06867179]]\n"
     ]
    }
   ],
   "source": [
    "print(probability)"
   ]
  },
  {
   "cell_type": "code",
   "execution_count": 59,
   "metadata": {},
   "outputs": [
    {
     "name": "stdout",
     "output_type": "stream",
     "text": [
      "129\n",
      "12\n"
     ]
    }
   ],
   "source": [
    "print(np.size(probability,axis=0))\n",
    "print(np.size(model.classes_))"
   ]
  },
  {
   "cell_type": "code",
   "execution_count": 60,
   "metadata": {},
   "outputs": [
    {
     "name": "stdout",
     "output_type": "stream",
     "text": [
      "<class 'list'>\n",
      "Dev 3 Probability is 0.245326658373\n",
      "Dev 5 Probability is 0.20248744\n",
      "Dev 1 Probability is 0.10609122679\n",
      "Dev 8 Probability is 0.0935132007853\n",
      "Dev 7 Probability is 0.0822457745133\n",
      "Dev 11 Probability is 0.0739894167715\n",
      "Dev 4 Probability is 0.0538797551144\n",
      "Dev 2 Probability is 0.0337935155317\n",
      "Dev 6 Probability is 0.0330509940494\n",
      "Dev 0 Probability is 0.031570490972\n",
      "Dev 9 Probability is 0.0253173235219\n",
      "Dev 10 Probability is 0.0187342035765\n"
     ]
    }
   ],
   "source": [
    "\n",
    "class_proba=(sorted( zip( model.classes_, probability[0] ), key=lambda x:x[1], reverse=True)[:n_best])\n",
    "#print(np.array(sorted( zip( model.classes_, probability[0] ), key=lambda x:x[1], reverse=True)[:1]))\n",
    "print(type(class_proba))\n",
    "np.size(class_proba,axis=0)\n",
    "for dev,proba in class_proba:\n",
    "    print(\"Dev\" , dev , \"Probability is\" , proba)\n"
   ]
  },
  {
   "cell_type": "code",
   "execution_count": 61,
   "metadata": {},
   "outputs": [
    {
     "name": "stdout",
     "output_type": "stream",
     "text": [
      "[(3, 0.24532665837341894), (5, 0.20248744000028043), (1, 0.10609122679040479), (8, 0.093513200785268383), (7, 0.082245774513282244), (11, 0.073989416771466435), (4, 0.05387975511436302), (2, 0.033793515531694802), (6, 0.033050994049388341), (0, 0.031570490972031739), (9, 0.02531732352188306), (10, 0.018734203576517859)]\n",
      "0 [ 3.          0.24532666  0.          0.          0.          0.          0.\n",
      "  0.          0.          0.          0.          0.          0.          0.\n",
      "  0.          0.          0.          0.          0.          0.          0.\n",
      "  0.          0.          0.          0.          0.          0.          0.\n",
      "  0.          0.          0.          0.          0.          0.          0.\n",
      "  0.          0.          0.          0.          0.        ]\n",
      "[  3.           0.24532666   5.           0.20248744   1.           0.10609123\n",
      "   8.           0.0935132    7.           0.08224577  11.           0.07398942\n",
      "   4.           0.05387976   2.           0.03379352   6.           0.03305099\n",
      "   0.           0.03157049   9.           0.02531732  10.           0.0187342\n",
      "   0.           0.           0.           0.           0.           0.           0.\n",
      "   0.           0.           0.           0.           0.           0.           0.\n",
      "   0.           0.        ]\n"
     ]
    }
   ],
   "source": [
    "dev_bestproba_list=np.zeros(shape=(np.size(probability,axis=0),n_best*2))\n",
    "\n",
    "i=0\n",
    "for row in probability:\n",
    "    #print((np.asarray(sorted( zip( model.classes_, probability[i] ), key=lambda x:x[1], reverse=True)[:1])))\n",
    "    class_proba=(sorted( zip( model.classes_, probability[i] ), key=lambda x:x[1], reverse=True)[:n_best])\n",
    "    if i==0:\n",
    "        print(class_proba)\n",
    "    k=0\n",
    "    for dev,proba in class_proba:\n",
    "        \n",
    "        dev_bestproba_list[i][k*2]=int(class_proba[k][0])\n",
    "        dev_bestproba_list[i][(k*2+1)]=class_proba[k][1]\n",
    "        if i==0 and k==0:\n",
    "            print(k, dev_bestproba_list[0])\n",
    "        k+=1\n",
    "        \n",
    "    i+=1\n",
    "    \n",
    "print(dev_bestproba_list[0])"
   ]
  },
  {
   "cell_type": "code",
   "execution_count": 62,
   "metadata": {},
   "outputs": [
    {
     "data": {
      "text/html": [
       "<div>\n",
       "<style>\n",
       "    .dataframe thead tr:only-child th {\n",
       "        text-align: right;\n",
       "    }\n",
       "\n",
       "    .dataframe thead th {\n",
       "        text-align: left;\n",
       "    }\n",
       "\n",
       "    .dataframe tbody tr th {\n",
       "        vertical-align: top;\n",
       "    }\n",
       "</style>\n",
       "<table border=\"1\" class=\"dataframe\">\n",
       "  <thead>\n",
       "    <tr style=\"text-align: right;\">\n",
       "      <th></th>\n",
       "      <th>Dev_1</th>\n",
       "      <th>Proba_1</th>\n",
       "      <th>Dev_2</th>\n",
       "      <th>Proba_2</th>\n",
       "      <th>Dev_3</th>\n",
       "      <th>Proba_3</th>\n",
       "      <th>Dev_4</th>\n",
       "      <th>Proba_4</th>\n",
       "      <th>Dev_5</th>\n",
       "      <th>Proba_5</th>\n",
       "      <th>...</th>\n",
       "      <th>Dev_16</th>\n",
       "      <th>Proba_16</th>\n",
       "      <th>Dev_17</th>\n",
       "      <th>Proba_17</th>\n",
       "      <th>Dev_18</th>\n",
       "      <th>Proba_18</th>\n",
       "      <th>Dev_19</th>\n",
       "      <th>Proba_19</th>\n",
       "      <th>Dev_20</th>\n",
       "      <th>Proba_20</th>\n",
       "    </tr>\n",
       "  </thead>\n",
       "  <tbody>\n",
       "    <tr>\n",
       "      <th>0</th>\n",
       "      <td>3.0</td>\n",
       "      <td>0.245327</td>\n",
       "      <td>5.0</td>\n",
       "      <td>0.202487</td>\n",
       "      <td>1.0</td>\n",
       "      <td>0.106091</td>\n",
       "      <td>8.0</td>\n",
       "      <td>0.093513</td>\n",
       "      <td>7.0</td>\n",
       "      <td>0.082246</td>\n",
       "      <td>...</td>\n",
       "      <td>0.0</td>\n",
       "      <td>0.0</td>\n",
       "      <td>0.0</td>\n",
       "      <td>0.0</td>\n",
       "      <td>0.0</td>\n",
       "      <td>0.0</td>\n",
       "      <td>0.0</td>\n",
       "      <td>0.0</td>\n",
       "      <td>0.0</td>\n",
       "      <td>0.0</td>\n",
       "    </tr>\n",
       "    <tr>\n",
       "      <th>1</th>\n",
       "      <td>5.0</td>\n",
       "      <td>0.187093</td>\n",
       "      <td>3.0</td>\n",
       "      <td>0.180333</td>\n",
       "      <td>1.0</td>\n",
       "      <td>0.120191</td>\n",
       "      <td>8.0</td>\n",
       "      <td>0.102404</td>\n",
       "      <td>7.0</td>\n",
       "      <td>0.093247</td>\n",
       "      <td>...</td>\n",
       "      <td>0.0</td>\n",
       "      <td>0.0</td>\n",
       "      <td>0.0</td>\n",
       "      <td>0.0</td>\n",
       "      <td>0.0</td>\n",
       "      <td>0.0</td>\n",
       "      <td>0.0</td>\n",
       "      <td>0.0</td>\n",
       "      <td>0.0</td>\n",
       "      <td>0.0</td>\n",
       "    </tr>\n",
       "    <tr>\n",
       "      <th>2</th>\n",
       "      <td>11.0</td>\n",
       "      <td>0.213789</td>\n",
       "      <td>5.0</td>\n",
       "      <td>0.157779</td>\n",
       "      <td>1.0</td>\n",
       "      <td>0.149069</td>\n",
       "      <td>3.0</td>\n",
       "      <td>0.143776</td>\n",
       "      <td>8.0</td>\n",
       "      <td>0.079511</td>\n",
       "      <td>...</td>\n",
       "      <td>0.0</td>\n",
       "      <td>0.0</td>\n",
       "      <td>0.0</td>\n",
       "      <td>0.0</td>\n",
       "      <td>0.0</td>\n",
       "      <td>0.0</td>\n",
       "      <td>0.0</td>\n",
       "      <td>0.0</td>\n",
       "      <td>0.0</td>\n",
       "      <td>0.0</td>\n",
       "    </tr>\n",
       "    <tr>\n",
       "      <th>3</th>\n",
       "      <td>5.0</td>\n",
       "      <td>0.172789</td>\n",
       "      <td>3.0</td>\n",
       "      <td>0.153215</td>\n",
       "      <td>0.0</td>\n",
       "      <td>0.138455</td>\n",
       "      <td>1.0</td>\n",
       "      <td>0.138256</td>\n",
       "      <td>8.0</td>\n",
       "      <td>0.097431</td>\n",
       "      <td>...</td>\n",
       "      <td>0.0</td>\n",
       "      <td>0.0</td>\n",
       "      <td>0.0</td>\n",
       "      <td>0.0</td>\n",
       "      <td>0.0</td>\n",
       "      <td>0.0</td>\n",
       "      <td>0.0</td>\n",
       "      <td>0.0</td>\n",
       "      <td>0.0</td>\n",
       "      <td>0.0</td>\n",
       "    </tr>\n",
       "    <tr>\n",
       "      <th>4</th>\n",
       "      <td>5.0</td>\n",
       "      <td>0.179316</td>\n",
       "      <td>3.0</td>\n",
       "      <td>0.156598</td>\n",
       "      <td>2.0</td>\n",
       "      <td>0.118316</td>\n",
       "      <td>8.0</td>\n",
       "      <td>0.100814</td>\n",
       "      <td>1.0</td>\n",
       "      <td>0.096320</td>\n",
       "      <td>...</td>\n",
       "      <td>0.0</td>\n",
       "      <td>0.0</td>\n",
       "      <td>0.0</td>\n",
       "      <td>0.0</td>\n",
       "      <td>0.0</td>\n",
       "      <td>0.0</td>\n",
       "      <td>0.0</td>\n",
       "      <td>0.0</td>\n",
       "      <td>0.0</td>\n",
       "      <td>0.0</td>\n",
       "    </tr>\n",
       "  </tbody>\n",
       "</table>\n",
       "<p>5 rows × 40 columns</p>\n",
       "</div>"
      ],
      "text/plain": [
       "   Dev_1   Proba_1  Dev_2   Proba_2  Dev_3   Proba_3  Dev_4   Proba_4  Dev_5  \\\n",
       "0    3.0  0.245327    5.0  0.202487    1.0  0.106091    8.0  0.093513    7.0   \n",
       "1    5.0  0.187093    3.0  0.180333    1.0  0.120191    8.0  0.102404    7.0   \n",
       "2   11.0  0.213789    5.0  0.157779    1.0  0.149069    3.0  0.143776    8.0   \n",
       "3    5.0  0.172789    3.0  0.153215    0.0  0.138455    1.0  0.138256    8.0   \n",
       "4    5.0  0.179316    3.0  0.156598    2.0  0.118316    8.0  0.100814    1.0   \n",
       "\n",
       "    Proba_5    ...     Dev_16  Proba_16  Dev_17  Proba_17  Dev_18  Proba_18  \\\n",
       "0  0.082246    ...        0.0       0.0     0.0       0.0     0.0       0.0   \n",
       "1  0.093247    ...        0.0       0.0     0.0       0.0     0.0       0.0   \n",
       "2  0.079511    ...        0.0       0.0     0.0       0.0     0.0       0.0   \n",
       "3  0.097431    ...        0.0       0.0     0.0       0.0     0.0       0.0   \n",
       "4  0.096320    ...        0.0       0.0     0.0       0.0     0.0       0.0   \n",
       "\n",
       "   Dev_19  Proba_19  Dev_20  Proba_20  \n",
       "0     0.0       0.0     0.0       0.0  \n",
       "1     0.0       0.0     0.0       0.0  \n",
       "2     0.0       0.0     0.0       0.0  \n",
       "3     0.0       0.0     0.0       0.0  \n",
       "4     0.0       0.0     0.0       0.0  \n",
       "\n",
       "[5 rows x 40 columns]"
      ]
     },
     "execution_count": 62,
     "metadata": {},
     "output_type": "execute_result"
    }
   ],
   "source": [
    "col_list = []\n",
    "for i in range(n_best):\n",
    "   col_list = col_list +  [\"Dev_\" + str(i+1) ] + [\"Proba_\" + str(i+1) ] \n",
    "\n",
    "dev_bestproba_df=pd.DataFrame(dev_bestproba_list)\n",
    "dev_bestproba_df.columns=[col_list]\n",
    "\n",
    "dev_bestproba_df.head()\n",
    "\n"
   ]
  },
  {
   "cell_type": "code",
   "execution_count": 63,
   "metadata": {},
   "outputs": [
    {
     "data": {
      "text/html": [
       "<div>\n",
       "<style>\n",
       "    .dataframe thead tr:only-child th {\n",
       "        text-align: right;\n",
       "    }\n",
       "\n",
       "    .dataframe thead th {\n",
       "        text-align: left;\n",
       "    }\n",
       "\n",
       "    .dataframe tbody tr th {\n",
       "        vertical-align: top;\n",
       "    }\n",
       "</style>\n",
       "<table border=\"1\" class=\"dataframe\">\n",
       "  <thead>\n",
       "    <tr style=\"text-align: right;\">\n",
       "      <th></th>\n",
       "      <th>Dev_1</th>\n",
       "      <th>Proba_1</th>\n",
       "      <th>Dev_2</th>\n",
       "      <th>Proba_2</th>\n",
       "      <th>Dev_3</th>\n",
       "      <th>Proba_3</th>\n",
       "      <th>Dev_4</th>\n",
       "      <th>Proba_4</th>\n",
       "      <th>Dev_5</th>\n",
       "      <th>Proba_5</th>\n",
       "      <th>...</th>\n",
       "      <th>Dev_16</th>\n",
       "      <th>Proba_16</th>\n",
       "      <th>Dev_17</th>\n",
       "      <th>Proba_17</th>\n",
       "      <th>Dev_18</th>\n",
       "      <th>Proba_18</th>\n",
       "      <th>Dev_19</th>\n",
       "      <th>Proba_19</th>\n",
       "      <th>Dev_20</th>\n",
       "      <th>Proba_20</th>\n",
       "    </tr>\n",
       "  </thead>\n",
       "  <tbody>\n",
       "    <tr>\n",
       "      <th>0</th>\n",
       "      <td>Vamshi</td>\n",
       "      <td>0.245327</td>\n",
       "      <td>Aniket</td>\n",
       "      <td>0.202487</td>\n",
       "      <td>Michelle</td>\n",
       "      <td>0.106091</td>\n",
       "      <td>Brad</td>\n",
       "      <td>0.093513</td>\n",
       "      <td>Andrew</td>\n",
       "      <td>0.082246</td>\n",
       "      <td>...</td>\n",
       "      <td>Prasanna</td>\n",
       "      <td>0.0</td>\n",
       "      <td>Prasanna</td>\n",
       "      <td>0.0</td>\n",
       "      <td>Prasanna</td>\n",
       "      <td>0.0</td>\n",
       "      <td>Prasanna</td>\n",
       "      <td>0.0</td>\n",
       "      <td>Prasanna</td>\n",
       "      <td>0.0</td>\n",
       "    </tr>\n",
       "    <tr>\n",
       "      <th>1</th>\n",
       "      <td>Aniket</td>\n",
       "      <td>0.187093</td>\n",
       "      <td>Vamshi</td>\n",
       "      <td>0.180333</td>\n",
       "      <td>Michelle</td>\n",
       "      <td>0.120191</td>\n",
       "      <td>Brad</td>\n",
       "      <td>0.102404</td>\n",
       "      <td>Andrew</td>\n",
       "      <td>0.093247</td>\n",
       "      <td>...</td>\n",
       "      <td>Prasanna</td>\n",
       "      <td>0.0</td>\n",
       "      <td>Prasanna</td>\n",
       "      <td>0.0</td>\n",
       "      <td>Prasanna</td>\n",
       "      <td>0.0</td>\n",
       "      <td>Prasanna</td>\n",
       "      <td>0.0</td>\n",
       "      <td>Prasanna</td>\n",
       "      <td>0.0</td>\n",
       "    </tr>\n",
       "    <tr>\n",
       "      <th>2</th>\n",
       "      <td>Hafiza</td>\n",
       "      <td>0.213789</td>\n",
       "      <td>Aniket</td>\n",
       "      <td>0.157779</td>\n",
       "      <td>Michelle</td>\n",
       "      <td>0.149069</td>\n",
       "      <td>Vamshi</td>\n",
       "      <td>0.143776</td>\n",
       "      <td>Brad</td>\n",
       "      <td>0.079511</td>\n",
       "      <td>...</td>\n",
       "      <td>Prasanna</td>\n",
       "      <td>0.0</td>\n",
       "      <td>Prasanna</td>\n",
       "      <td>0.0</td>\n",
       "      <td>Prasanna</td>\n",
       "      <td>0.0</td>\n",
       "      <td>Prasanna</td>\n",
       "      <td>0.0</td>\n",
       "      <td>Prasanna</td>\n",
       "      <td>0.0</td>\n",
       "    </tr>\n",
       "    <tr>\n",
       "      <th>3</th>\n",
       "      <td>Aniket</td>\n",
       "      <td>0.172789</td>\n",
       "      <td>Vamshi</td>\n",
       "      <td>0.153215</td>\n",
       "      <td>Prasanna</td>\n",
       "      <td>0.138455</td>\n",
       "      <td>Michelle</td>\n",
       "      <td>0.138256</td>\n",
       "      <td>Brad</td>\n",
       "      <td>0.097431</td>\n",
       "      <td>...</td>\n",
       "      <td>Prasanna</td>\n",
       "      <td>0.0</td>\n",
       "      <td>Prasanna</td>\n",
       "      <td>0.0</td>\n",
       "      <td>Prasanna</td>\n",
       "      <td>0.0</td>\n",
       "      <td>Prasanna</td>\n",
       "      <td>0.0</td>\n",
       "      <td>Prasanna</td>\n",
       "      <td>0.0</td>\n",
       "    </tr>\n",
       "    <tr>\n",
       "      <th>4</th>\n",
       "      <td>Aniket</td>\n",
       "      <td>0.179316</td>\n",
       "      <td>Vamshi</td>\n",
       "      <td>0.156598</td>\n",
       "      <td>Chirag</td>\n",
       "      <td>0.118316</td>\n",
       "      <td>Brad</td>\n",
       "      <td>0.100814</td>\n",
       "      <td>Michelle</td>\n",
       "      <td>0.096320</td>\n",
       "      <td>...</td>\n",
       "      <td>Prasanna</td>\n",
       "      <td>0.0</td>\n",
       "      <td>Prasanna</td>\n",
       "      <td>0.0</td>\n",
       "      <td>Prasanna</td>\n",
       "      <td>0.0</td>\n",
       "      <td>Prasanna</td>\n",
       "      <td>0.0</td>\n",
       "      <td>Prasanna</td>\n",
       "      <td>0.0</td>\n",
       "    </tr>\n",
       "  </tbody>\n",
       "</table>\n",
       "<p>5 rows × 40 columns</p>\n",
       "</div>"
      ],
      "text/plain": [
       "    Dev_1   Proba_1   Dev_2   Proba_2     Dev_3   Proba_3     Dev_4   Proba_4  \\\n",
       "0  Vamshi  0.245327  Aniket  0.202487  Michelle  0.106091      Brad  0.093513   \n",
       "1  Aniket  0.187093  Vamshi  0.180333  Michelle  0.120191      Brad  0.102404   \n",
       "2  Hafiza  0.213789  Aniket  0.157779  Michelle  0.149069    Vamshi  0.143776   \n",
       "3  Aniket  0.172789  Vamshi  0.153215  Prasanna  0.138455  Michelle  0.138256   \n",
       "4  Aniket  0.179316  Vamshi  0.156598    Chirag  0.118316      Brad  0.100814   \n",
       "\n",
       "      Dev_5   Proba_5    ...       Dev_16  Proba_16    Dev_17  Proba_17  \\\n",
       "0    Andrew  0.082246    ...     Prasanna       0.0  Prasanna       0.0   \n",
       "1    Andrew  0.093247    ...     Prasanna       0.0  Prasanna       0.0   \n",
       "2      Brad  0.079511    ...     Prasanna       0.0  Prasanna       0.0   \n",
       "3      Brad  0.097431    ...     Prasanna       0.0  Prasanna       0.0   \n",
       "4  Michelle  0.096320    ...     Prasanna       0.0  Prasanna       0.0   \n",
       "\n",
       "     Dev_18  Proba_18    Dev_19  Proba_19    Dev_20  Proba_20  \n",
       "0  Prasanna       0.0  Prasanna       0.0  Prasanna       0.0  \n",
       "1  Prasanna       0.0  Prasanna       0.0  Prasanna       0.0  \n",
       "2  Prasanna       0.0  Prasanna       0.0  Prasanna       0.0  \n",
       "3  Prasanna       0.0  Prasanna       0.0  Prasanna       0.0  \n",
       "4  Prasanna       0.0  Prasanna       0.0  Prasanna       0.0  \n",
       "\n",
       "[5 rows x 40 columns]"
      ]
     },
     "execution_count": 63,
     "metadata": {},
     "output_type": "execute_result"
    }
   ],
   "source": [
    "for i in range(n_best):\n",
    "    col_to_check=\"Dev_\" + str(i+1)\n",
    "    if col_to_check in dev_bestproba_df.columns:\n",
    "        dev_bestproba_df[col_to_check]=dev_bestproba_df[col_to_check].map(sk_to_uid)\n",
    "\n",
    "dev_bestproba_df.head()"
   ]
  },
  {
   "cell_type": "code",
   "execution_count": 64,
   "metadata": {},
   "outputs": [
    {
     "data": {
      "text/html": [
       "<div>\n",
       "<style>\n",
       "    .dataframe thead tr:only-child th {\n",
       "        text-align: right;\n",
       "    }\n",
       "\n",
       "    .dataframe thead th {\n",
       "        text-align: left;\n",
       "    }\n",
       "\n",
       "    .dataframe tbody tr th {\n",
       "        vertical-align: top;\n",
       "    }\n",
       "</style>\n",
       "<table border=\"1\" class=\"dataframe\">\n",
       "  <thead>\n",
       "    <tr style=\"text-align: right;\">\n",
       "      <th></th>\n",
       "      <th>Issue_key</th>\n",
       "      <th>Dev_1</th>\n",
       "      <th>Proba_1</th>\n",
       "      <th>Dev_2</th>\n",
       "      <th>Proba_2</th>\n",
       "      <th>Dev_3</th>\n",
       "      <th>Proba_3</th>\n",
       "      <th>Dev_4</th>\n",
       "      <th>Proba_4</th>\n",
       "      <th>Dev_5</th>\n",
       "      <th>...</th>\n",
       "      <th>Dev_16</th>\n",
       "      <th>Proba_16</th>\n",
       "      <th>Dev_17</th>\n",
       "      <th>Proba_17</th>\n",
       "      <th>Dev_18</th>\n",
       "      <th>Proba_18</th>\n",
       "      <th>Dev_19</th>\n",
       "      <th>Proba_19</th>\n",
       "      <th>Dev_20</th>\n",
       "      <th>Proba_20</th>\n",
       "    </tr>\n",
       "  </thead>\n",
       "  <tbody>\n",
       "    <tr>\n",
       "      <th>0</th>\n",
       "      <td>IHUBPS-11232</td>\n",
       "      <td>Vamshi</td>\n",
       "      <td>0.245327</td>\n",
       "      <td>Aniket</td>\n",
       "      <td>0.202487</td>\n",
       "      <td>Michelle</td>\n",
       "      <td>0.106091</td>\n",
       "      <td>Brad</td>\n",
       "      <td>0.093513</td>\n",
       "      <td>Andrew</td>\n",
       "      <td>...</td>\n",
       "      <td>Prasanna</td>\n",
       "      <td>0.0</td>\n",
       "      <td>Prasanna</td>\n",
       "      <td>0.0</td>\n",
       "      <td>Prasanna</td>\n",
       "      <td>0.0</td>\n",
       "      <td>Prasanna</td>\n",
       "      <td>0.0</td>\n",
       "      <td>Prasanna</td>\n",
       "      <td>0.0</td>\n",
       "    </tr>\n",
       "    <tr>\n",
       "      <th>1</th>\n",
       "      <td>IHUBPS-11216</td>\n",
       "      <td>Aniket</td>\n",
       "      <td>0.187093</td>\n",
       "      <td>Vamshi</td>\n",
       "      <td>0.180333</td>\n",
       "      <td>Michelle</td>\n",
       "      <td>0.120191</td>\n",
       "      <td>Brad</td>\n",
       "      <td>0.102404</td>\n",
       "      <td>Andrew</td>\n",
       "      <td>...</td>\n",
       "      <td>Prasanna</td>\n",
       "      <td>0.0</td>\n",
       "      <td>Prasanna</td>\n",
       "      <td>0.0</td>\n",
       "      <td>Prasanna</td>\n",
       "      <td>0.0</td>\n",
       "      <td>Prasanna</td>\n",
       "      <td>0.0</td>\n",
       "      <td>Prasanna</td>\n",
       "      <td>0.0</td>\n",
       "    </tr>\n",
       "    <tr>\n",
       "      <th>2</th>\n",
       "      <td>IHUBPS-11187</td>\n",
       "      <td>Hafiza</td>\n",
       "      <td>0.213789</td>\n",
       "      <td>Aniket</td>\n",
       "      <td>0.157779</td>\n",
       "      <td>Michelle</td>\n",
       "      <td>0.149069</td>\n",
       "      <td>Vamshi</td>\n",
       "      <td>0.143776</td>\n",
       "      <td>Brad</td>\n",
       "      <td>...</td>\n",
       "      <td>Prasanna</td>\n",
       "      <td>0.0</td>\n",
       "      <td>Prasanna</td>\n",
       "      <td>0.0</td>\n",
       "      <td>Prasanna</td>\n",
       "      <td>0.0</td>\n",
       "      <td>Prasanna</td>\n",
       "      <td>0.0</td>\n",
       "      <td>Prasanna</td>\n",
       "      <td>0.0</td>\n",
       "    </tr>\n",
       "    <tr>\n",
       "      <th>3</th>\n",
       "      <td>IHUBPS-11185</td>\n",
       "      <td>Aniket</td>\n",
       "      <td>0.172789</td>\n",
       "      <td>Vamshi</td>\n",
       "      <td>0.153215</td>\n",
       "      <td>Prasanna</td>\n",
       "      <td>0.138455</td>\n",
       "      <td>Michelle</td>\n",
       "      <td>0.138256</td>\n",
       "      <td>Brad</td>\n",
       "      <td>...</td>\n",
       "      <td>Prasanna</td>\n",
       "      <td>0.0</td>\n",
       "      <td>Prasanna</td>\n",
       "      <td>0.0</td>\n",
       "      <td>Prasanna</td>\n",
       "      <td>0.0</td>\n",
       "      <td>Prasanna</td>\n",
       "      <td>0.0</td>\n",
       "      <td>Prasanna</td>\n",
       "      <td>0.0</td>\n",
       "    </tr>\n",
       "    <tr>\n",
       "      <th>4</th>\n",
       "      <td>IHUBPS-11089</td>\n",
       "      <td>Aniket</td>\n",
       "      <td>0.179316</td>\n",
       "      <td>Vamshi</td>\n",
       "      <td>0.156598</td>\n",
       "      <td>Chirag</td>\n",
       "      <td>0.118316</td>\n",
       "      <td>Brad</td>\n",
       "      <td>0.100814</td>\n",
       "      <td>Michelle</td>\n",
       "      <td>...</td>\n",
       "      <td>Prasanna</td>\n",
       "      <td>0.0</td>\n",
       "      <td>Prasanna</td>\n",
       "      <td>0.0</td>\n",
       "      <td>Prasanna</td>\n",
       "      <td>0.0</td>\n",
       "      <td>Prasanna</td>\n",
       "      <td>0.0</td>\n",
       "      <td>Prasanna</td>\n",
       "      <td>0.0</td>\n",
       "    </tr>\n",
       "  </tbody>\n",
       "</table>\n",
       "<p>5 rows × 41 columns</p>\n",
       "</div>"
      ],
      "text/plain": [
       "      Issue_key   Dev_1   Proba_1   Dev_2   Proba_2     Dev_3   Proba_3  \\\n",
       "0  IHUBPS-11232  Vamshi  0.245327  Aniket  0.202487  Michelle  0.106091   \n",
       "1  IHUBPS-11216  Aniket  0.187093  Vamshi  0.180333  Michelle  0.120191   \n",
       "2  IHUBPS-11187  Hafiza  0.213789  Aniket  0.157779  Michelle  0.149069   \n",
       "3  IHUBPS-11185  Aniket  0.172789  Vamshi  0.153215  Prasanna  0.138455   \n",
       "4  IHUBPS-11089  Aniket  0.179316  Vamshi  0.156598    Chirag  0.118316   \n",
       "\n",
       "      Dev_4   Proba_4     Dev_5   ...       Dev_16 Proba_16    Dev_17  \\\n",
       "0      Brad  0.093513    Andrew   ...     Prasanna      0.0  Prasanna   \n",
       "1      Brad  0.102404    Andrew   ...     Prasanna      0.0  Prasanna   \n",
       "2    Vamshi  0.143776      Brad   ...     Prasanna      0.0  Prasanna   \n",
       "3  Michelle  0.138256      Brad   ...     Prasanna      0.0  Prasanna   \n",
       "4      Brad  0.100814  Michelle   ...     Prasanna      0.0  Prasanna   \n",
       "\n",
       "  Proba_17    Dev_18 Proba_18    Dev_19 Proba_19    Dev_20 Proba_20  \n",
       "0      0.0  Prasanna      0.0  Prasanna      0.0  Prasanna      0.0  \n",
       "1      0.0  Prasanna      0.0  Prasanna      0.0  Prasanna      0.0  \n",
       "2      0.0  Prasanna      0.0  Prasanna      0.0  Prasanna      0.0  \n",
       "3      0.0  Prasanna      0.0  Prasanna      0.0  Prasanna      0.0  \n",
       "4      0.0  Prasanna      0.0  Prasanna      0.0  Prasanna      0.0  \n",
       "\n",
       "[5 rows x 41 columns]"
      ]
     },
     "execution_count": 64,
     "metadata": {},
     "output_type": "execute_result"
    }
   ],
   "source": [
    "jira_df= pd.DataFrame(jira_data_pred['Issue_key'].values)\n",
    "jira_df.columns=['Issue_key']\n",
    "jira_dev_df=pd.concat([jira_df, dev_bestproba_df], axis=1)\n",
    "jira_dev_df.head()"
   ]
  },
  {
   "cell_type": "code",
   "execution_count": 65,
   "metadata": {},
   "outputs": [
    {
     "data": {
      "text/html": [
       "<div>\n",
       "<style>\n",
       "    .dataframe thead tr:only-child th {\n",
       "        text-align: right;\n",
       "    }\n",
       "\n",
       "    .dataframe thead th {\n",
       "        text-align: left;\n",
       "    }\n",
       "\n",
       "    .dataframe tbody tr th {\n",
       "        vertical-align: top;\n",
       "    }\n",
       "</style>\n",
       "<table border=\"1\" class=\"dataframe\">\n",
       "  <thead>\n",
       "    <tr style=\"text-align: right;\">\n",
       "      <th></th>\n",
       "      <th>Issue_key</th>\n",
       "      <th>Dev_1</th>\n",
       "      <th>Proba_1</th>\n",
       "      <th>Dev_2</th>\n",
       "      <th>Proba_2</th>\n",
       "      <th>Dev_3</th>\n",
       "      <th>Proba_3</th>\n",
       "      <th>Dev_4</th>\n",
       "      <th>Proba_4</th>\n",
       "      <th>Dev_5</th>\n",
       "      <th>...</th>\n",
       "      <th>Dev_16</th>\n",
       "      <th>Proba_16</th>\n",
       "      <th>Dev_17</th>\n",
       "      <th>Proba_17</th>\n",
       "      <th>Dev_18</th>\n",
       "      <th>Proba_18</th>\n",
       "      <th>Dev_19</th>\n",
       "      <th>Proba_19</th>\n",
       "      <th>Dev_20</th>\n",
       "      <th>Proba_20</th>\n",
       "    </tr>\n",
       "  </thead>\n",
       "  <tbody>\n",
       "    <tr>\n",
       "      <th>91</th>\n",
       "      <td>IHUBPS-10509</td>\n",
       "      <td>Andrew</td>\n",
       "      <td>0.396049</td>\n",
       "      <td>Brad</td>\n",
       "      <td>0.205887</td>\n",
       "      <td>Ravindra</td>\n",
       "      <td>0.182596</td>\n",
       "      <td>Michelle</td>\n",
       "      <td>0.057592</td>\n",
       "      <td>Vamshi</td>\n",
       "      <td>...</td>\n",
       "      <td>Prasanna</td>\n",
       "      <td>0.0</td>\n",
       "      <td>Prasanna</td>\n",
       "      <td>0.0</td>\n",
       "      <td>Prasanna</td>\n",
       "      <td>0.0</td>\n",
       "      <td>Prasanna</td>\n",
       "      <td>0.0</td>\n",
       "      <td>Prasanna</td>\n",
       "      <td>0.0</td>\n",
       "    </tr>\n",
       "    <tr>\n",
       "      <th>47</th>\n",
       "      <td>IHUBPS-10748</td>\n",
       "      <td>Andrew</td>\n",
       "      <td>0.390691</td>\n",
       "      <td>Brad</td>\n",
       "      <td>0.247305</td>\n",
       "      <td>Ravindra</td>\n",
       "      <td>0.192039</td>\n",
       "      <td>Michelle</td>\n",
       "      <td>0.049290</td>\n",
       "      <td>Vamshi</td>\n",
       "      <td>...</td>\n",
       "      <td>Prasanna</td>\n",
       "      <td>0.0</td>\n",
       "      <td>Prasanna</td>\n",
       "      <td>0.0</td>\n",
       "      <td>Prasanna</td>\n",
       "      <td>0.0</td>\n",
       "      <td>Prasanna</td>\n",
       "      <td>0.0</td>\n",
       "      <td>Prasanna</td>\n",
       "      <td>0.0</td>\n",
       "    </tr>\n",
       "    <tr>\n",
       "      <th>94</th>\n",
       "      <td>IHUBPS-10475</td>\n",
       "      <td>Andrew</td>\n",
       "      <td>0.390691</td>\n",
       "      <td>Brad</td>\n",
       "      <td>0.247305</td>\n",
       "      <td>Ravindra</td>\n",
       "      <td>0.192039</td>\n",
       "      <td>Michelle</td>\n",
       "      <td>0.049290</td>\n",
       "      <td>Vamshi</td>\n",
       "      <td>...</td>\n",
       "      <td>Prasanna</td>\n",
       "      <td>0.0</td>\n",
       "      <td>Prasanna</td>\n",
       "      <td>0.0</td>\n",
       "      <td>Prasanna</td>\n",
       "      <td>0.0</td>\n",
       "      <td>Prasanna</td>\n",
       "      <td>0.0</td>\n",
       "      <td>Prasanna</td>\n",
       "      <td>0.0</td>\n",
       "    </tr>\n",
       "    <tr>\n",
       "      <th>102</th>\n",
       "      <td>IHUBPS-10372</td>\n",
       "      <td>Andrew</td>\n",
       "      <td>0.390691</td>\n",
       "      <td>Brad</td>\n",
       "      <td>0.247305</td>\n",
       "      <td>Ravindra</td>\n",
       "      <td>0.192039</td>\n",
       "      <td>Michelle</td>\n",
       "      <td>0.049290</td>\n",
       "      <td>Vamshi</td>\n",
       "      <td>...</td>\n",
       "      <td>Prasanna</td>\n",
       "      <td>0.0</td>\n",
       "      <td>Prasanna</td>\n",
       "      <td>0.0</td>\n",
       "      <td>Prasanna</td>\n",
       "      <td>0.0</td>\n",
       "      <td>Prasanna</td>\n",
       "      <td>0.0</td>\n",
       "      <td>Prasanna</td>\n",
       "      <td>0.0</td>\n",
       "    </tr>\n",
       "    <tr>\n",
       "      <th>103</th>\n",
       "      <td>IHUBPS-10319</td>\n",
       "      <td>Andrew</td>\n",
       "      <td>0.390691</td>\n",
       "      <td>Brad</td>\n",
       "      <td>0.247305</td>\n",
       "      <td>Ravindra</td>\n",
       "      <td>0.192039</td>\n",
       "      <td>Michelle</td>\n",
       "      <td>0.049290</td>\n",
       "      <td>Vamshi</td>\n",
       "      <td>...</td>\n",
       "      <td>Prasanna</td>\n",
       "      <td>0.0</td>\n",
       "      <td>Prasanna</td>\n",
       "      <td>0.0</td>\n",
       "      <td>Prasanna</td>\n",
       "      <td>0.0</td>\n",
       "      <td>Prasanna</td>\n",
       "      <td>0.0</td>\n",
       "      <td>Prasanna</td>\n",
       "      <td>0.0</td>\n",
       "    </tr>\n",
       "  </tbody>\n",
       "</table>\n",
       "<p>5 rows × 41 columns</p>\n",
       "</div>"
      ],
      "text/plain": [
       "        Issue_key   Dev_1   Proba_1 Dev_2   Proba_2     Dev_3   Proba_3  \\\n",
       "91   IHUBPS-10509  Andrew  0.396049  Brad  0.205887  Ravindra  0.182596   \n",
       "47   IHUBPS-10748  Andrew  0.390691  Brad  0.247305  Ravindra  0.192039   \n",
       "94   IHUBPS-10475  Andrew  0.390691  Brad  0.247305  Ravindra  0.192039   \n",
       "102  IHUBPS-10372  Andrew  0.390691  Brad  0.247305  Ravindra  0.192039   \n",
       "103  IHUBPS-10319  Andrew  0.390691  Brad  0.247305  Ravindra  0.192039   \n",
       "\n",
       "        Dev_4   Proba_4   Dev_5   ...       Dev_16 Proba_16    Dev_17  \\\n",
       "91   Michelle  0.057592  Vamshi   ...     Prasanna      0.0  Prasanna   \n",
       "47   Michelle  0.049290  Vamshi   ...     Prasanna      0.0  Prasanna   \n",
       "94   Michelle  0.049290  Vamshi   ...     Prasanna      0.0  Prasanna   \n",
       "102  Michelle  0.049290  Vamshi   ...     Prasanna      0.0  Prasanna   \n",
       "103  Michelle  0.049290  Vamshi   ...     Prasanna      0.0  Prasanna   \n",
       "\n",
       "    Proba_17    Dev_18 Proba_18    Dev_19 Proba_19    Dev_20 Proba_20  \n",
       "91       0.0  Prasanna      0.0  Prasanna      0.0  Prasanna      0.0  \n",
       "47       0.0  Prasanna      0.0  Prasanna      0.0  Prasanna      0.0  \n",
       "94       0.0  Prasanna      0.0  Prasanna      0.0  Prasanna      0.0  \n",
       "102      0.0  Prasanna      0.0  Prasanna      0.0  Prasanna      0.0  \n",
       "103      0.0  Prasanna      0.0  Prasanna      0.0  Prasanna      0.0  \n",
       "\n",
       "[5 rows x 41 columns]"
      ]
     },
     "execution_count": 65,
     "metadata": {},
     "output_type": "execute_result"
    }
   ],
   "source": [
    "jira_dev_df=jira_dev_df.sort_values(['Dev_1','Proba_1'], ascending=[1,0])\n",
    "jira_dev_df.head()"
   ]
  },
  {
   "cell_type": "code",
   "execution_count": 66,
   "metadata": {
    "collapsed": true
   },
   "outputs": [],
   "source": [
    "jira_dev_df['jira_seq'] = jira_dev_df.groupby('Dev_1')['Proba_1'].rank(method=\"first\", ascending=False)\n"
   ]
  },
  {
   "cell_type": "code",
   "execution_count": 67,
   "metadata": {},
   "outputs": [
    {
     "data": {
      "text/html": [
       "<div>\n",
       "<style>\n",
       "    .dataframe thead tr:only-child th {\n",
       "        text-align: right;\n",
       "    }\n",
       "\n",
       "    .dataframe thead th {\n",
       "        text-align: left;\n",
       "    }\n",
       "\n",
       "    .dataframe tbody tr th {\n",
       "        vertical-align: top;\n",
       "    }\n",
       "</style>\n",
       "<table border=\"1\" class=\"dataframe\">\n",
       "  <thead>\n",
       "    <tr style=\"text-align: right;\">\n",
       "      <th></th>\n",
       "      <th>Issue_key</th>\n",
       "      <th>Dev_1</th>\n",
       "      <th>Proba_1</th>\n",
       "      <th>jira_seq</th>\n",
       "    </tr>\n",
       "  </thead>\n",
       "  <tbody>\n",
       "    <tr>\n",
       "      <th>91</th>\n",
       "      <td>IHUBPS-10509</td>\n",
       "      <td>Andrew</td>\n",
       "      <td>0.396049</td>\n",
       "      <td>1.0</td>\n",
       "    </tr>\n",
       "    <tr>\n",
       "      <th>47</th>\n",
       "      <td>IHUBPS-10748</td>\n",
       "      <td>Andrew</td>\n",
       "      <td>0.390691</td>\n",
       "      <td>2.0</td>\n",
       "    </tr>\n",
       "    <tr>\n",
       "      <th>94</th>\n",
       "      <td>IHUBPS-10475</td>\n",
       "      <td>Andrew</td>\n",
       "      <td>0.390691</td>\n",
       "      <td>3.0</td>\n",
       "    </tr>\n",
       "    <tr>\n",
       "      <th>102</th>\n",
       "      <td>IHUBPS-10372</td>\n",
       "      <td>Andrew</td>\n",
       "      <td>0.390691</td>\n",
       "      <td>4.0</td>\n",
       "    </tr>\n",
       "    <tr>\n",
       "      <th>103</th>\n",
       "      <td>IHUBPS-10319</td>\n",
       "      <td>Andrew</td>\n",
       "      <td>0.390691</td>\n",
       "      <td>5.0</td>\n",
       "    </tr>\n",
       "  </tbody>\n",
       "</table>\n",
       "</div>"
      ],
      "text/plain": [
       "        Issue_key   Dev_1   Proba_1  jira_seq\n",
       "91   IHUBPS-10509  Andrew  0.396049       1.0\n",
       "47   IHUBPS-10748  Andrew  0.390691       2.0\n",
       "94   IHUBPS-10475  Andrew  0.390691       3.0\n",
       "102  IHUBPS-10372  Andrew  0.390691       4.0\n",
       "103  IHUBPS-10319  Andrew  0.390691       5.0"
      ]
     },
     "execution_count": 67,
     "metadata": {},
     "output_type": "execute_result"
    }
   ],
   "source": [
    "col = ['Issue_key','Dev_1','Proba_1','jira_seq'] \n",
    "jira_dev_seq_df = jira_dev_df[col]\n",
    "jira_dev_seq_df.head()\n"
   ]
  },
  {
   "cell_type": "code",
   "execution_count": 68,
   "metadata": {},
   "outputs": [
    {
     "data": {
      "text/plain": [
       "Vamshi      23\n",
       "Michelle    18\n",
       "Aniket      12\n",
       "Name: Dev_1, dtype: int64"
      ]
     },
     "execution_count": 68,
     "metadata": {},
     "output_type": "execute_result"
    }
   ],
   "source": [
    "total_jira_issues=jira_dev_seq_df.Issue_key.count()\n",
    "total_developers=jira_dev_seq_df.Dev_1.nunique()\n",
    "avg_jiras_per_dev=(total_jira_issues/total_developers).round()\n",
    "\n",
    "overloaded_jira_dev=jira_dev_seq_df.loc[jira_dev_seq_df['jira_seq'] > avg_jiras_per_dev]\n",
    "overloaded_jira_dev.Dev_1.value_counts()\n"
   ]
  },
  {
   "cell_type": "code",
   "execution_count": 69,
   "metadata": {},
   "outputs": [
    {
     "data": {
      "text/html": [
       "<div>\n",
       "<style>\n",
       "    .dataframe thead tr:only-child th {\n",
       "        text-align: right;\n",
       "    }\n",
       "\n",
       "    .dataframe thead th {\n",
       "        text-align: left;\n",
       "    }\n",
       "\n",
       "    .dataframe tbody tr th {\n",
       "        vertical-align: top;\n",
       "    }\n",
       "</style>\n",
       "<table border=\"1\" class=\"dataframe\">\n",
       "  <thead>\n",
       "    <tr style=\"text-align: right;\">\n",
       "      <th></th>\n",
       "      <th>Dev_1</th>\n",
       "    </tr>\n",
       "  </thead>\n",
       "  <tbody>\n",
       "    <tr>\n",
       "      <th>Vamshi</th>\n",
       "      <td>34</td>\n",
       "    </tr>\n",
       "    <tr>\n",
       "      <th>Michelle</th>\n",
       "      <td>29</td>\n",
       "    </tr>\n",
       "    <tr>\n",
       "      <th>Aniket</th>\n",
       "      <td>23</td>\n",
       "    </tr>\n",
       "    <tr>\n",
       "      <th>Prasanna</th>\n",
       "      <td>10</td>\n",
       "    </tr>\n",
       "    <tr>\n",
       "      <th>Vamshee</th>\n",
       "      <td>6</td>\n",
       "    </tr>\n",
       "    <tr>\n",
       "      <th>Andrew</th>\n",
       "      <td>6</td>\n",
       "    </tr>\n",
       "    <tr>\n",
       "      <th>Hafiza</th>\n",
       "      <td>6</td>\n",
       "    </tr>\n",
       "    <tr>\n",
       "      <th>Sudhakar</th>\n",
       "      <td>5</td>\n",
       "    </tr>\n",
       "    <tr>\n",
       "      <th>Ravindra</th>\n",
       "      <td>4</td>\n",
       "    </tr>\n",
       "    <tr>\n",
       "      <th>Brad</th>\n",
       "      <td>2</td>\n",
       "    </tr>\n",
       "    <tr>\n",
       "      <th>Satish</th>\n",
       "      <td>2</td>\n",
       "    </tr>\n",
       "    <tr>\n",
       "      <th>Chirag</th>\n",
       "      <td>2</td>\n",
       "    </tr>\n",
       "  </tbody>\n",
       "</table>\n",
       "</div>"
      ],
      "text/plain": [
       "          Dev_1\n",
       "Vamshi       34\n",
       "Michelle     29\n",
       "Aniket       23\n",
       "Prasanna     10\n",
       "Vamshee       6\n",
       "Andrew        6\n",
       "Hafiza        6\n",
       "Sudhakar      5\n",
       "Ravindra      4\n",
       "Brad          2\n",
       "Satish        2\n",
       "Chirag        2"
      ]
     },
     "execution_count": 69,
     "metadata": {},
     "output_type": "execute_result"
    }
   ],
   "source": [
    "all_counts=pd.DataFrame(jira_dev_seq_df['Dev_1'].value_counts())\n",
    "all_counts"
   ]
  },
  {
   "cell_type": "code",
   "execution_count": 70,
   "metadata": {},
   "outputs": [
    {
     "name": "stdout",
     "output_type": "stream",
     "text": [
      "<class 'numpy.ndarray'>\n"
     ]
    },
    {
     "data": {
      "text/plain": [
       "array(['Aniket', 'Michelle', 'Vamshi'], dtype=object)"
      ]
     },
     "execution_count": 70,
     "metadata": {},
     "output_type": "execute_result"
    }
   ],
   "source": [
    "overloaded_developers=overloaded_jira_dev['Dev_1'].unique()\n",
    "\n",
    "print(type(overloaded_developers))\n",
    "(overloaded_developers)"
   ]
  },
  {
   "cell_type": "code",
   "execution_count": 71,
   "metadata": {},
   "outputs": [
    {
     "name": "stdout",
     "output_type": "stream",
     "text": [
      "<class 'pandas.core.series.Series'>\n"
     ]
    }
   ],
   "source": [
    "underloaded_jira_dev=jira_dev_seq_df.loc[jira_dev_seq_df['jira_seq'] < avg_jiras_per_dev]\n",
    "print(type(underloaded_jira_dev.Dev_1.value_counts()))"
   ]
  },
  {
   "cell_type": "code",
   "execution_count": 72,
   "metadata": {
    "collapsed": true
   },
   "outputs": [],
   "source": [
    "underloaded_counts=pd.DataFrame(underloaded_jira_dev['Dev_1'].value_counts())\n",
    "underloaded_counts = underloaded_counts.reset_index()\n",
    "underloaded_counts.columns = ['Dev', 'counts'] "
   ]
  },
  {
   "cell_type": "code",
   "execution_count": 73,
   "metadata": {},
   "outputs": [
    {
     "data": {
      "text/html": [
       "<div>\n",
       "<style>\n",
       "    .dataframe thead tr:only-child th {\n",
       "        text-align: right;\n",
       "    }\n",
       "\n",
       "    .dataframe thead th {\n",
       "        text-align: left;\n",
       "    }\n",
       "\n",
       "    .dataframe tbody tr th {\n",
       "        vertical-align: top;\n",
       "    }\n",
       "</style>\n",
       "<table border=\"1\" class=\"dataframe\">\n",
       "  <thead>\n",
       "    <tr style=\"text-align: right;\">\n",
       "      <th></th>\n",
       "      <th>Dev</th>\n",
       "      <th>counts</th>\n",
       "    </tr>\n",
       "  </thead>\n",
       "  <tbody>\n",
       "    <tr>\n",
       "      <th>0</th>\n",
       "      <td>Prasanna</td>\n",
       "      <td>10</td>\n",
       "    </tr>\n",
       "    <tr>\n",
       "      <th>1</th>\n",
       "      <td>Aniket</td>\n",
       "      <td>10</td>\n",
       "    </tr>\n",
       "    <tr>\n",
       "      <th>2</th>\n",
       "      <td>Vamshi</td>\n",
       "      <td>10</td>\n",
       "    </tr>\n",
       "    <tr>\n",
       "      <th>3</th>\n",
       "      <td>Michelle</td>\n",
       "      <td>10</td>\n",
       "    </tr>\n",
       "    <tr>\n",
       "      <th>4</th>\n",
       "      <td>Vamshee</td>\n",
       "      <td>6</td>\n",
       "    </tr>\n",
       "    <tr>\n",
       "      <th>5</th>\n",
       "      <td>Andrew</td>\n",
       "      <td>6</td>\n",
       "    </tr>\n",
       "    <tr>\n",
       "      <th>6</th>\n",
       "      <td>Hafiza</td>\n",
       "      <td>6</td>\n",
       "    </tr>\n",
       "    <tr>\n",
       "      <th>7</th>\n",
       "      <td>Sudhakar</td>\n",
       "      <td>5</td>\n",
       "    </tr>\n",
       "    <tr>\n",
       "      <th>8</th>\n",
       "      <td>Ravindra</td>\n",
       "      <td>4</td>\n",
       "    </tr>\n",
       "    <tr>\n",
       "      <th>9</th>\n",
       "      <td>Brad</td>\n",
       "      <td>2</td>\n",
       "    </tr>\n",
       "    <tr>\n",
       "      <th>10</th>\n",
       "      <td>Satish</td>\n",
       "      <td>2</td>\n",
       "    </tr>\n",
       "    <tr>\n",
       "      <th>11</th>\n",
       "      <td>Chirag</td>\n",
       "      <td>2</td>\n",
       "    </tr>\n",
       "  </tbody>\n",
       "</table>\n",
       "</div>"
      ],
      "text/plain": [
       "         Dev  counts\n",
       "0   Prasanna      10\n",
       "1     Aniket      10\n",
       "2     Vamshi      10\n",
       "3   Michelle      10\n",
       "4    Vamshee       6\n",
       "5     Andrew       6\n",
       "6     Hafiza       6\n",
       "7   Sudhakar       5\n",
       "8   Ravindra       4\n",
       "9       Brad       2\n",
       "10    Satish       2\n",
       "11    Chirag       2"
      ]
     },
     "execution_count": 73,
     "metadata": {},
     "output_type": "execute_result"
    }
   ],
   "source": [
    "(underloaded_counts)"
   ]
  },
  {
   "cell_type": "code",
   "execution_count": 74,
   "metadata": {},
   "outputs": [
    {
     "data": {
      "text/plain": [
       "44     IHUBPS-10763\n",
       "48     IHUBPS-10733\n",
       "62     IHUBPS-10605\n",
       "105    IHUBPS-10275\n",
       "4      IHUBPS-11089\n",
       "Name: Issue_key, dtype: object"
      ]
     },
     "execution_count": 74,
     "metadata": {},
     "output_type": "execute_result"
    }
   ],
   "source": [
    "jira_reassign=overloaded_jira_dev['Issue_key'].dropna()\n",
    "jira_reassign.head()"
   ]
  },
  {
   "cell_type": "code",
   "execution_count": 75,
   "metadata": {
    "scrolled": false
   },
   "outputs": [
    {
     "data": {
      "text/html": [
       "<div>\n",
       "<style>\n",
       "    .dataframe thead tr:only-child th {\n",
       "        text-align: right;\n",
       "    }\n",
       "\n",
       "    .dataframe thead th {\n",
       "        text-align: left;\n",
       "    }\n",
       "\n",
       "    .dataframe tbody tr th {\n",
       "        vertical-align: top;\n",
       "    }\n",
       "</style>\n",
       "<table border=\"1\" class=\"dataframe\">\n",
       "  <thead>\n",
       "    <tr style=\"text-align: right;\">\n",
       "      <th></th>\n",
       "      <th>Issue_key</th>\n",
       "      <th>Dev_1</th>\n",
       "      <th>Proba_1</th>\n",
       "      <th>Dev_2</th>\n",
       "      <th>Proba_2</th>\n",
       "      <th>Dev_3</th>\n",
       "      <th>Proba_3</th>\n",
       "      <th>Dev_4</th>\n",
       "      <th>Proba_4</th>\n",
       "      <th>Dev_5</th>\n",
       "      <th>...</th>\n",
       "      <th>Proba_16</th>\n",
       "      <th>Dev_17</th>\n",
       "      <th>Proba_17</th>\n",
       "      <th>Dev_18</th>\n",
       "      <th>Proba_18</th>\n",
       "      <th>Dev_19</th>\n",
       "      <th>Proba_19</th>\n",
       "      <th>Dev_20</th>\n",
       "      <th>Proba_20</th>\n",
       "      <th>jira_seq</th>\n",
       "    </tr>\n",
       "  </thead>\n",
       "  <tbody>\n",
       "    <tr>\n",
       "      <th>0</th>\n",
       "      <td>IHUBPS-10509</td>\n",
       "      <td>Andrew</td>\n",
       "      <td>0.396049</td>\n",
       "      <td>Brad</td>\n",
       "      <td>0.205887</td>\n",
       "      <td>Ravindra</td>\n",
       "      <td>0.182596</td>\n",
       "      <td>Michelle</td>\n",
       "      <td>0.057592</td>\n",
       "      <td>Vamshi</td>\n",
       "      <td>...</td>\n",
       "      <td>0.0</td>\n",
       "      <td>Prasanna</td>\n",
       "      <td>0.0</td>\n",
       "      <td>Prasanna</td>\n",
       "      <td>0.0</td>\n",
       "      <td>Prasanna</td>\n",
       "      <td>0.0</td>\n",
       "      <td>Prasanna</td>\n",
       "      <td>0.0</td>\n",
       "      <td>1.0</td>\n",
       "    </tr>\n",
       "    <tr>\n",
       "      <th>1</th>\n",
       "      <td>IHUBPS-10748</td>\n",
       "      <td>Andrew</td>\n",
       "      <td>0.390691</td>\n",
       "      <td>Brad</td>\n",
       "      <td>0.247305</td>\n",
       "      <td>Ravindra</td>\n",
       "      <td>0.192039</td>\n",
       "      <td>Michelle</td>\n",
       "      <td>0.049290</td>\n",
       "      <td>Vamshi</td>\n",
       "      <td>...</td>\n",
       "      <td>0.0</td>\n",
       "      <td>Prasanna</td>\n",
       "      <td>0.0</td>\n",
       "      <td>Prasanna</td>\n",
       "      <td>0.0</td>\n",
       "      <td>Prasanna</td>\n",
       "      <td>0.0</td>\n",
       "      <td>Prasanna</td>\n",
       "      <td>0.0</td>\n",
       "      <td>2.0</td>\n",
       "    </tr>\n",
       "    <tr>\n",
       "      <th>2</th>\n",
       "      <td>IHUBPS-10475</td>\n",
       "      <td>Andrew</td>\n",
       "      <td>0.390691</td>\n",
       "      <td>Brad</td>\n",
       "      <td>0.247305</td>\n",
       "      <td>Ravindra</td>\n",
       "      <td>0.192039</td>\n",
       "      <td>Michelle</td>\n",
       "      <td>0.049290</td>\n",
       "      <td>Vamshi</td>\n",
       "      <td>...</td>\n",
       "      <td>0.0</td>\n",
       "      <td>Prasanna</td>\n",
       "      <td>0.0</td>\n",
       "      <td>Prasanna</td>\n",
       "      <td>0.0</td>\n",
       "      <td>Prasanna</td>\n",
       "      <td>0.0</td>\n",
       "      <td>Prasanna</td>\n",
       "      <td>0.0</td>\n",
       "      <td>3.0</td>\n",
       "    </tr>\n",
       "    <tr>\n",
       "      <th>3</th>\n",
       "      <td>IHUBPS-10372</td>\n",
       "      <td>Andrew</td>\n",
       "      <td>0.390691</td>\n",
       "      <td>Brad</td>\n",
       "      <td>0.247305</td>\n",
       "      <td>Ravindra</td>\n",
       "      <td>0.192039</td>\n",
       "      <td>Michelle</td>\n",
       "      <td>0.049290</td>\n",
       "      <td>Vamshi</td>\n",
       "      <td>...</td>\n",
       "      <td>0.0</td>\n",
       "      <td>Prasanna</td>\n",
       "      <td>0.0</td>\n",
       "      <td>Prasanna</td>\n",
       "      <td>0.0</td>\n",
       "      <td>Prasanna</td>\n",
       "      <td>0.0</td>\n",
       "      <td>Prasanna</td>\n",
       "      <td>0.0</td>\n",
       "      <td>4.0</td>\n",
       "    </tr>\n",
       "    <tr>\n",
       "      <th>4</th>\n",
       "      <td>IHUBPS-10319</td>\n",
       "      <td>Andrew</td>\n",
       "      <td>0.390691</td>\n",
       "      <td>Brad</td>\n",
       "      <td>0.247305</td>\n",
       "      <td>Ravindra</td>\n",
       "      <td>0.192039</td>\n",
       "      <td>Michelle</td>\n",
       "      <td>0.049290</td>\n",
       "      <td>Vamshi</td>\n",
       "      <td>...</td>\n",
       "      <td>0.0</td>\n",
       "      <td>Prasanna</td>\n",
       "      <td>0.0</td>\n",
       "      <td>Prasanna</td>\n",
       "      <td>0.0</td>\n",
       "      <td>Prasanna</td>\n",
       "      <td>0.0</td>\n",
       "      <td>Prasanna</td>\n",
       "      <td>0.0</td>\n",
       "      <td>5.0</td>\n",
       "    </tr>\n",
       "  </tbody>\n",
       "</table>\n",
       "<p>5 rows × 42 columns</p>\n",
       "</div>"
      ],
      "text/plain": [
       "      Issue_key   Dev_1   Proba_1 Dev_2   Proba_2     Dev_3   Proba_3  \\\n",
       "0  IHUBPS-10509  Andrew  0.396049  Brad  0.205887  Ravindra  0.182596   \n",
       "1  IHUBPS-10748  Andrew  0.390691  Brad  0.247305  Ravindra  0.192039   \n",
       "2  IHUBPS-10475  Andrew  0.390691  Brad  0.247305  Ravindra  0.192039   \n",
       "3  IHUBPS-10372  Andrew  0.390691  Brad  0.247305  Ravindra  0.192039   \n",
       "4  IHUBPS-10319  Andrew  0.390691  Brad  0.247305  Ravindra  0.192039   \n",
       "\n",
       "      Dev_4   Proba_4   Dev_5   ...     Proba_16    Dev_17  Proba_17  \\\n",
       "0  Michelle  0.057592  Vamshi   ...          0.0  Prasanna       0.0   \n",
       "1  Michelle  0.049290  Vamshi   ...          0.0  Prasanna       0.0   \n",
       "2  Michelle  0.049290  Vamshi   ...          0.0  Prasanna       0.0   \n",
       "3  Michelle  0.049290  Vamshi   ...          0.0  Prasanna       0.0   \n",
       "4  Michelle  0.049290  Vamshi   ...          0.0  Prasanna       0.0   \n",
       "\n",
       "     Dev_18  Proba_18    Dev_19  Proba_19    Dev_20  Proba_20 jira_seq  \n",
       "0  Prasanna       0.0  Prasanna       0.0  Prasanna       0.0      1.0  \n",
       "1  Prasanna       0.0  Prasanna       0.0  Prasanna       0.0      2.0  \n",
       "2  Prasanna       0.0  Prasanna       0.0  Prasanna       0.0      3.0  \n",
       "3  Prasanna       0.0  Prasanna       0.0  Prasanna       0.0      4.0  \n",
       "4  Prasanna       0.0  Prasanna       0.0  Prasanna       0.0      5.0  \n",
       "\n",
       "[5 rows x 42 columns]"
      ]
     },
     "execution_count": 75,
     "metadata": {},
     "output_type": "execute_result"
    }
   ],
   "source": [
    "#jira_dev_df=jira_dev_df.drop(['jira_seq'],axis=1)\n",
    "jira_dev_df.reset_index(drop=True, inplace=True)\n",
    "jira_dev_df.head()\n"
   ]
  },
  {
   "cell_type": "code",
   "execution_count": 76,
   "metadata": {},
   "outputs": [
    {
     "name": "stdout",
     "output_type": "stream",
     "text": [
      "Replacing  Aniket with  Andrew for JIRA  IHUBPS-11037\n",
      "Replacing  Aniket with  Andrew for JIRA  IHUBPS-10806\n",
      "Replacing  Aniket with  Andrew for JIRA  IHUBPS-10804\n",
      "Replacing  Aniket with  Andrew for JIRA  IHUBPS-10803\n",
      "Replacing  Aniket with  Andrew for JIRA  IHUBPS-10560\n",
      "Replacing  Aniket with  Andrew for JIRA  IHUBPS-10416\n",
      "Replacing  Michelle with  Satish for JIRA  IHUBPS-10647\n",
      "Replacing  Michelle with  Satish for JIRA  IHUBPS-10583\n",
      "Replacing  Michelle with  Ravindra for JIRA  IHUBPS-10862\n",
      "Replacing  Michelle with  Ravindra for JIRA  IHUBPS-10849\n",
      "Replacing  Michelle with  Ravindra for JIRA  IHUBPS-10602\n",
      "Replacing  Michelle with  Ravindra for JIRA  IHUBPS-10594\n",
      "Replacing  Michelle with  Ravindra for JIRA  IHUBPS-10527\n",
      "Replacing  Michelle with  Ravindra for JIRA  IHUBPS-10507\n",
      "Replacing  Michelle with  Ravindra for JIRA  IHUBPS-9321\n",
      "Replacing  Michelle with  Hafiza for JIRA  IHUBPS-10543\n",
      "Replacing  Michelle with  Hafiza for JIRA  IHUBPS-10395\n",
      "Replacing  Michelle with  Hafiza for JIRA  IHUBPS-10511\n",
      "Replacing  Vamshi with  Ravindra for JIRA  IHUBPS-10535\n",
      "Replacing  Vamshi with  Vamshee for JIRA  IHUBPS-10873\n",
      "Reassigned  20\n",
      "Replacing  Aniket with  Chirag for JIRA  IHUBPS-11089\n",
      "Replacing  Aniket with  Prasanna for JIRA  IHUBPS-11185\n",
      "Replacing  Michelle with  Hafiza for JIRA  IHUBPS-10768\n",
      "Replacing  Vamshi with  Hafiza for JIRA  IHUBPS-10193\n",
      "Replacing  Vamshi with  Chirag for JIRA  IHUBPS-10557\n",
      "Replacing  Vamshi with  Prasanna for JIRA  IHUBPS-11008\n",
      "Replacing  Ravindra with  Hafiza for JIRA  IHUBPS-10535\n",
      "Reassigned  7\n",
      "Replacing  Aniket with  Brad for JIRA  IHUBPS-10763\n",
      "Replacing  Aniket with  Brad for JIRA  IHUBPS-10733\n",
      "Replacing  Aniket with  Brad for JIRA  IHUBPS-10605\n",
      "Replacing  Aniket with  Brad for JIRA  IHUBPS-10275\n",
      "Replacing  Michelle with  Andrew for JIRA  IHUBPS-10851\n",
      "Replacing  Hafiza with  Ravindra for JIRA  IHUBPS-10768\n",
      "Replacing  Michelle with  Hafiza for JIRA  IHUBPS-10756\n",
      "Replacing  Hafiza with  Michelle for JIRA  IHUBPS-10193\n",
      "Replacing  Vamshi with  Hafiza for JIRA  IHUBPS-7939\n",
      "Replacing  Vamshi with  Brad for JIRA  IHUBPS-11232\n",
      "Replacing  Vamshi with  Satish for JIRA  IHUBPS-10872\n",
      "Reassigned  11\n",
      "Replacing  Prasanna with  Brad for JIRA  IHUBPS-11185\n",
      "Replacing  Ravindra with  Aniket for JIRA  IHUBPS-10768\n",
      "Replacing  Hafiza with  Chirag for JIRA  IHUBPS-10756\n",
      "Replacing  Michelle with  Chirag for JIRA  IHUBPS-10544\n",
      "Replacing  Michelle with  Chirag for JIRA  IHUBPS-10542\n",
      "Replacing  Michelle with  Chirag for JIRA  IHUBPS-10392\n",
      "Replacing  Vamshi with  Michelle for JIRA  IHUBPS-10860\n",
      "Replacing  Vamshi with  Hafiza for JIRA  IHUBPS-10195\n",
      "Reassigned  8\n",
      "Replacing  Andrew with  Ravindra for JIRA  IHUBPS-11037\n",
      "Replacing  Aniket with  Brad for JIRA  IHUBPS-10768\n",
      "Replacing  Hafiza with  Brad for JIRA  IHUBPS-7939\n",
      "Replacing  Vamshi with  Aniket for JIRA  IHUBPS-10521\n",
      "Replacing  Michelle with  Chirag for JIRA  IHUBPS-10860\n",
      "Replacing  Vamshi with  Chirag for JIRA  IHUBPS-10858\n",
      "Replacing  Vamshi with  Chirag for JIRA  IHUBPS-10759\n",
      "Replacing  Vamshi with  Hafiza for JIRA  IHUBPS-10713\n",
      "Replacing  Vamshi with  Brad for JIRA  IHUBPS-10908\n",
      "Reassigned  9\n",
      "Replacing  Ravindra with  Brad for JIRA  IHUBPS-11037\n",
      "Replacing  Hafiza with  Prasanna for JIRA  IHUBPS-10511\n",
      "Replacing  Michelle with  Chirag for JIRA  IHUBPS-10193\n",
      "Replacing  Chirag with  Hafiza for JIRA  IHUBPS-10557\n",
      "Replacing  Brad with  Michelle for JIRA  IHUBPS-7939\n",
      "Replacing  Aniket with  Satish for JIRA  IHUBPS-10521\n",
      "Replacing  Vamshi with  Satish for JIRA  IHUBPS-10493\n",
      "Replacing  Hafiza with  Chirag for JIRA  IHUBPS-10713\n",
      "Reassigned  8\n",
      "Replacing  Chirag with  Brad for JIRA  IHUBPS-11089\n",
      "Replacing  Brad with  Chirag for JIRA  IHUBPS-11037\n",
      "Replacing  Andrew with  Satish for JIRA  IHUBPS-10851\n",
      "Replacing  Chirag with  Satish for JIRA  IHUBPS-10756\n",
      "Replacing  Prasanna with  Aniket for JIRA  IHUBPS-10511\n",
      "Replacing  Michelle with  Sudhakar for JIRA  IHUBPS-7939\n",
      "Replacing  Vamshi with  Sudhakar for JIRA  IHUBPS-10243\n",
      "Replacing  Vamshi with  Sudhakar for JIRA  IHUBPS-10531\n",
      "Replacing  Vamshi with  Sudhakar for JIRA  IHUBPS-10575\n",
      "Replacing  Vamshi with  Sudhakar for JIRA  IHUBPS-10532\n",
      "Replacing  Vamshi with  Sudhakar for JIRA  IHUBPS-10519\n",
      "Replacing  Vamshi with  Sudhakar for JIRA  IHUBPS-10072\n",
      "Reassigned  12\n",
      "Replacing  Sudhakar with  Chirag for JIRA  IHUBPS-7939\n",
      "Replacing  Chirag with  Brad for JIRA  IHUBPS-10860\n",
      "Replacing  Brad with  Andrew for JIRA  IHUBPS-10908\n",
      "Replacing  Vamshi with  Satish for JIRA  IHUBPS-5540\n",
      "Reassigned  4\n",
      "Replacing  Andrew with  Sudhakar for JIRA  IHUBPS-10806\n",
      "Replacing  Aniket with  Vamshee for JIRA  IHUBPS-10511\n",
      "Replacing  Sudhakar with  Satish for JIRA  IHUBPS-10243\n",
      "Reassigned  3\n",
      "Reassigned  0\n",
      "Reassigned  0\n",
      "Reassigned  0\n",
      "Reassigned  0\n",
      "Reassigned  0\n",
      "Reassigned  0\n",
      "Reassigned  0\n",
      "Reassigned  0\n",
      "Reassigned  0\n",
      "Reassigned  0\n",
      "Reassigned  0\n",
      "jira_count= 53\n",
      "total_reassignment_count= 82\n"
     ]
    }
   ],
   "source": [
    "total_reassignment_count=0\n",
    "\n",
    "for i in range(n_best):\n",
    "    loop_reassignment_count=0\n",
    "    jira_count=0\n",
    "    for jira_item in jira_reassign.iteritems(): \n",
    "        row_to_shift = jira_dev_df[jira_dev_df.Issue_key == jira_item[1]]\n",
    "        row_index_to_shift = row_to_shift.index\n",
    "                \n",
    "        row_to_shift=((jira_dev_df.iloc[row_index_to_shift,:-1]))\n",
    "\n",
    "\n",
    "        Dev1=(row_to_shift['Dev_1']).values[0]\n",
    "        Dev2=(row_to_shift['Dev_2']).values[0]\n",
    "        \n",
    "        #Dev1 is overloaded but Dev2 is not\n",
    "        if np.in1d(Dev1, list(overloaded_developers)) and Dev2 and not np.in1d(Dev2, list(overloaded_developers)) :\n",
    "            jira_dev_df.iloc[row_index_to_shift,1:-1] = jira_dev_df.iloc[row_index_to_shift,1:-1].shift(periods=-1,axis=1)\n",
    "            jira_dev_df['jira_seq'] = jira_dev_df.groupby('Dev_1')['Proba_1'].rank(method=\"first\", ascending=False)\n",
    "            print('Replacing ', Dev1, 'with ', Dev2 , 'for JIRA ',jira_item[1] )\n",
    "            total_reassignment_count+=1\n",
    "            loop_reassignment_count+=1\n",
    "\n",
    "        #Dev1 and Dev2 both are overloaded \n",
    "\n",
    "        if np.in1d(Dev1, list(overloaded_developers)) and Dev2 and np.in1d(Dev2, list(overloaded_developers)) :\n",
    "            jira_dev_df.iloc[row_index_to_shift,3:] = jira_dev_df.iloc[row_index_to_shift,3:].shift(periods=-1,axis=1)\n",
    "\n",
    "        jira_count+=1\n",
    "\n",
    "        overloaded_jira_dev=jira_dev_df.loc[jira_dev_df['jira_seq'] > avg_jiras_per_dev]\n",
    "        overloaded_jira_dev.Dev_1.value_counts()\n",
    "        overloaded_developers=overloaded_jira_dev['Dev_1'].unique()\n",
    "        #print(overloaded_developers)\n",
    "        \n",
    "    print('Reassigned ', loop_reassignment_count)\n",
    "\n",
    "        \n",
    "\n",
    "print('jira_count=',jira_count)\n",
    "print('total_reassignment_count=',total_reassignment_count)\n"
   ]
  },
  {
   "cell_type": "code",
   "execution_count": 77,
   "metadata": {},
   "outputs": [
    {
     "data": {
      "text/html": [
       "<div>\n",
       "<style>\n",
       "    .dataframe thead tr:only-child th {\n",
       "        text-align: right;\n",
       "    }\n",
       "\n",
       "    .dataframe thead th {\n",
       "        text-align: left;\n",
       "    }\n",
       "\n",
       "    .dataframe tbody tr th {\n",
       "        vertical-align: top;\n",
       "    }\n",
       "</style>\n",
       "<table border=\"1\" class=\"dataframe\">\n",
       "  <thead>\n",
       "    <tr style=\"text-align: right;\">\n",
       "      <th></th>\n",
       "      <th>Dev_1</th>\n",
       "    </tr>\n",
       "  </thead>\n",
       "  <tbody>\n",
       "    <tr>\n",
       "      <th>Ravindra</th>\n",
       "      <td>11</td>\n",
       "    </tr>\n",
       "    <tr>\n",
       "      <th>Michelle</th>\n",
       "      <td>11</td>\n",
       "    </tr>\n",
       "    <tr>\n",
       "      <th>Sudhakar</th>\n",
       "      <td>11</td>\n",
       "    </tr>\n",
       "    <tr>\n",
       "      <th>Brad</th>\n",
       "      <td>11</td>\n",
       "    </tr>\n",
       "    <tr>\n",
       "      <th>Vamshi</th>\n",
       "      <td>11</td>\n",
       "    </tr>\n",
       "    <tr>\n",
       "      <th>Andrew</th>\n",
       "      <td>11</td>\n",
       "    </tr>\n",
       "    <tr>\n",
       "      <th>Prasanna</th>\n",
       "      <td>11</td>\n",
       "    </tr>\n",
       "    <tr>\n",
       "      <th>Satish</th>\n",
       "      <td>11</td>\n",
       "    </tr>\n",
       "    <tr>\n",
       "      <th>Aniket</th>\n",
       "      <td>11</td>\n",
       "    </tr>\n",
       "    <tr>\n",
       "      <th>Hafiza</th>\n",
       "      <td>11</td>\n",
       "    </tr>\n",
       "    <tr>\n",
       "      <th>Chirag</th>\n",
       "      <td>11</td>\n",
       "    </tr>\n",
       "    <tr>\n",
       "      <th>Vamshee</th>\n",
       "      <td>8</td>\n",
       "    </tr>\n",
       "  </tbody>\n",
       "</table>\n",
       "</div>"
      ],
      "text/plain": [
       "          Dev_1\n",
       "Ravindra     11\n",
       "Michelle     11\n",
       "Sudhakar     11\n",
       "Brad         11\n",
       "Vamshi       11\n",
       "Andrew       11\n",
       "Prasanna     11\n",
       "Satish       11\n",
       "Aniket       11\n",
       "Hafiza       11\n",
       "Chirag       11\n",
       "Vamshee       8"
      ]
     },
     "execution_count": 77,
     "metadata": {},
     "output_type": "execute_result"
    }
   ],
   "source": [
    "all_counts=pd.DataFrame(jira_dev_df['Dev_1'].value_counts())\n",
    "all_counts"
   ]
  },
  {
   "cell_type": "code",
   "execution_count": 78,
   "metadata": {},
   "outputs": [
    {
     "data": {
      "image/png": "[encoded data removed]",
      "text/plain": [
       "<matplotlib.figure.Figure at 0x27c1cc2e390>"
      ]
     },
     "metadata": {},
     "output_type": "display_data"
    }
   ],
   "source": [
    "jira_dev_df['Dev_1'].value_counts().plot(kind='bar')\n",
    "plt.show()"
   ]
  },
  {
   "cell_type": "markdown",
   "metadata": {},
   "source": [
    "Deployment"
   ]
  },
  {
   "cell_type": "code",
   "execution_count": 79,
   "metadata": {},
   "outputs": [
    {
     "data": {
      "text/plain": [
       "['jira_model.pkl']"
      ]
     },
     "execution_count": 79,
     "metadata": {},
     "output_type": "execute_result"
    }
   ],
   "source": [
    "from sklearn.externals import joblib\n",
    "\n",
    "joblib.dump(value=model,filename='jira_model.pkl')"
   ]
  },
  {
   "cell_type": "code",
   "execution_count": 81,
   "metadata": {},
   "outputs": [
    {
     "data": {
      "text/plain": [
       "['tfidf.pkl']"
      ]
     },
     "execution_count": 81,
     "metadata": {},
     "output_type": "execute_result"
    }
   ],
   "source": [
    "joblib.dump(value=encoder1,filename='encoder1.pkl')\n",
    "joblib.dump(value=encoder2,filename='encoder2.pkl')\n",
    "joblib.dump(value=encoder3,filename='encoder3.pkl')\n",
    "joblib.dump(value=scaler,filename='scaler.pkl')\n",
    "joblib.dump(value=tfidf,filename='tfidf.pkl')\n",
    "\n"
   ]
  },
  {
   "cell_type": "code",
   "execution_count": 83,
   "metadata": {},
   "outputs": [],
   "source": [
    "import os\n",
    "data_folder = os.path.join(os.getcwd(), 'Data/110')\n",
    "jira_data_next_iteration=pd.read_csv(os.path.join(data_folder, 'JIRA Export All Fields.csv'))\n",
    "\n",
    "# Retain used columns only from the JIRA dump\n",
    "col = ['Summary','Issue key','Custom field (Multiple Developers)','Issue Type','Custom field (POD Assignment)','Custom field (Inbound SOR)','Custom field (Target Iteration)','Description'] \n",
    "jira_data_pred = jira_data_next_iteration[col]\n",
    "jira_data_pred.columns = ['Summary', 'Issue_key', 'Multiple_Devs','Issue_Type', 'POD','SOR','Iteration','Description']\n",
    "jira_data_pred.columns\n",
    "jira_data_pred['SOR'] = jira_data_pred['SOR'].str.upper()\n",
    "jira_data_pred['Summary'] = jira_data_pred['Summary'].str.lower()\n",
    "jira_data_pred['Description'] = jira_data_pred['Description'].str.lower()\n",
    "\n",
    "jira_data_pred[\"SOR\"].fillna(\"No SOR\", inplace = True) \n",
    "SOR_1hot_pred = encoder1.transform(jira_data_pred['SOR'])\n",
    "jira_data_pred[\"POD\"].fillna(\"No POD\", inplace = True) \n",
    "POD_1hot_pred = encoder2.transform(jira_data_pred['POD'])\n",
    "jira_data_pred[\"Issue_Type\"].fillna(\"No Issue_Type\", inplace = True) \n",
    "IssueType_1hot_pred = encoder3.transform(jira_data_pred['Issue_Type'])\n",
    "jira_data_pred['Iteration'] = (jira_data_pred['Iteration'].str[9:]).str.strip().astype('int64')\n",
    "\n",
    "jira_data_pred['Scaled_Iteration']=scaler.transform(jira_data_pred[\"Iteration\"].values.reshape(-1, 1))\n",
    "\n",
    "\n",
    "features_pred = tfidf.transform(jira_data_pred.Summary +jira_data_pred.Description).toarray()\n",
    "features_pred = np.append(features_pred, jira_data_pred.Scaled_Iteration.values.reshape(features_pred.shape[0],1), axis = 1)\n",
    "\n",
    "features_pred = np.append(features_pred,SOR_1hot_pred, axis = 1)\n",
    "features_pred = np.append(features_pred,POD_1hot_pred , axis = 1)\n",
    "features_pred = np.append(features_pred,IssueType_1hot_pred , axis = 1)"
   ]
  },
  {
   "cell_type": "code",
   "execution_count": 85,
   "metadata": {},
   "outputs": [
    {
     "name": "stdout",
     "output_type": "stream",
     "text": [
      "[ 7  7  3  3  5  3  3  7  3  3  5  3  3  3  3  3 11 11  6  3  7  3  2  3  3\n",
      " 11  0 10 10  0  1  3  3  1  1  3  1  3  3  3  3  3 10  3  6  3 10  7  3  1\n",
      "  0  3  3  3  3  4  7 11  7  3  3  7  3  0  7  0  3  3  3  3  3  3  3  3  3\n",
      "  3  1  1 10  7  7  3  8  4  7 10 10 10  3  1  3 11 11  3  1  1  1  1 11  1\n",
      " 11  2  7  7  1  2  4  1  5  3  0  1  3  3  5  3  8  6  3  3  3  7  3  7  3\n",
      "  3  3  3  1  1  3  3  3  3  1  3  3  8  3  1  8  3  3  1  3 11  8  1  1  1\n",
      "  3  8  1  3  3  8]\n"
     ]
    }
   ],
   "source": [
    "y_hat = model.predict(features_pred)\n",
    "print(y_hat)"
   ]
  }
 ],
 "metadata": {
  "kernelspec": {
   "display_name": "Python 3",
   "language": "python",
   "name": "python3"
  },
  "language_info": {
   "codemirror_mode": {
    "name": "ipython",
    "version": 3
   },
   "file_extension": ".py",
   "mimetype": "text/x-python",
   "name": "python",
   "nbconvert_exporter": "python",
   "pygments_lexer": "ipython3",
   "version": "3.7.3"
  }
 },
 "nbformat": 4,
 "nbformat_minor": 2
}
